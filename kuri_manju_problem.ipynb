{
  "nbformat": 4,
  "nbformat_minor": 0,
  "metadata": {
    "colab": {
      "name": "kuri_manju_problem.ipynb",
      "provenance": [],
      "collapsed_sections": [],
      "authorship_tag": "ABX9TyM7qtM+E8W0SOO7PeMXuDyD",
      "include_colab_link": true
    },
    "kernelspec": {
      "name": "python3",
      "display_name": "Python 3"
    },
    "language_info": {
      "name": "python"
    }
  },
  "cells": [
    {
      "cell_type": "markdown",
      "metadata": {
        "id": "view-in-github",
        "colab_type": "text"
      },
      "source": [
        "<a href=\"https://colab.research.google.com/github/NaraaBold/DiverNaraa/blob/main/kuri_manju_problem.ipynb\" target=\"_parent\"><img src=\"https://colab.research.google.com/assets/colab-badge.svg\" alt=\"Open In Colab\"/></a>"
      ]
    },
    {
      "cell_type": "markdown",
      "source": [
        "[Problem]"
      ],
      "metadata": {
        "id": "PN0djr8tqIca"
      }
    },
    {
      "cell_type": "code",
      "execution_count": 23,
      "metadata": {
        "colab": {
          "base_uri": "https://localhost:8080/"
        },
        "id": "Lh-L38NwpxOY",
        "outputId": "92644412-d486-4e38-da91-4e266013e131"
      },
      "outputs": [
        {
          "output_type": "stream",
          "name": "stdout",
          "text": [
            "Number of balls needed 52404 to fill cube. Number of days 1 needed to fill it.\n",
            "Number of balls needed 109700 to fill hemisphere. Number of days 1 needed to fill it.\n"
          ]
        }
      ],
      "source": [
        "# to fill a 3D shaped space with certain object we need to consider object's volume and 3D shapes capacity \n",
        "# this function is a simple function that calculates the day to fill a hemisphere with balls\n",
        "def calculate_day_fill_volume1(ball_radius, hemisphere_radius):\n",
        "  PI = 3.14\n",
        "  density = 0.74048 # searched from internet maximum density\n",
        "  hemisphere_volume = (2/3)*PI*(hemisphere_radius**3)\n",
        "  ball_volume = (4/3)*PI*(ball_radius**3)\n",
        "  number_of_balls = int((hemisphere_volume/ball_volume)*density)\n",
        "  number_of_times = 0\n",
        "  balls = 1\n",
        "  while (balls<number_of_balls):\n",
        "    balls = balls + balls\n",
        "    number_of_times = number_of_times + 1\n",
        "  days = int ((number_of_times*5)/60)\n",
        "\n",
        "  return number_of_balls, days\n",
        "\n",
        "# this function is a simple function that calculates the day to fill a hemisphere with balls.\n",
        "def calculate_day_fill_volume2(ball_radius, cube_side):\n",
        "  PI = 3.14\n",
        "  cube_volume = cube_side**3;\n",
        "  ball_volume = (4/3)*PI*(ball_radius**3)\n",
        "  density = 0.74048 # searched from internet maximum density\n",
        "  number_of_balls = int ((cube_volume/ball_volume)*density)\n",
        "  number_of_times = 0\n",
        "  balls = 1\n",
        "  while (balls<number_of_balls):\n",
        "    balls = balls + balls\n",
        "    number_of_times = number_of_times + 1\n",
        "  days = int ((number_of_times*5)/60)\n",
        "  \n",
        "  return number_of_balls, days\n",
        "\n",
        "n_balls, n_days = calculate_day_fill_volume2(0.075, 5)\n",
        "print (\"Number of balls needed {} to fill cube. Number of days {} needed to fill it.\".format(n_balls,n_days))\n",
        "n_balls, n_days = calculate_day_fill_volume1(0.075, 5)\n",
        "print (\"Number of balls needed {} to fill hemisphere. Number of days {} needed to fill it.\".format(n_balls,n_days))"
      ]
    }
  ]
}