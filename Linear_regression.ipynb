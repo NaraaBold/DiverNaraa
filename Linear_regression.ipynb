{
  "nbformat": 4,
  "nbformat_minor": 0,
  "metadata": {
    "colab": {
      "name": "Linear_regression.ipynb",
      "provenance": [],
      "collapsed_sections": [],
      "authorship_tag": "ABX9TyMBzrflR7QsdxZoSaR1bwyU",
      "include_colab_link": true
    },
    "kernelspec": {
      "name": "python3",
      "display_name": "Python 3"
    },
    "language_info": {
      "name": "python"
    }
  },
  "cells": [
    {
      "cell_type": "markdown",
      "metadata": {
        "id": "view-in-github",
        "colab_type": "text"
      },
      "source": [
        "<a href=\"https://colab.research.google.com/github/NaraaBold/DiverNaraa/blob/main/Linear_regression.ipynb\" target=\"_parent\"><img src=\"https://colab.research.google.com/assets/colab-badge.svg\" alt=\"Open In Colab\"/></a>"
      ]
    },
    {
      "cell_type": "markdown",
      "source": [
        "Implementation of Linear Regression (LR) in scratch"
      ],
      "metadata": {
        "id": "Nplj9A4A1dvW"
      }
    },
    {
      "cell_type": "markdown",
      "source": [
        "[Problem 1] Hypothetical function\n",
        "\n",
        "[Question 2] The most rapid descent method\n",
        "\n",
        "[Question 3] Presumption\n",
        "\n",
        "[Question 3] Presumption\n",
        "\n",
        "[Problem 4] Mean square error\n",
        "\n",
        "[Problem 5] Objective function\n"
      ],
      "metadata": {
        "id": "lDTHzcWF2fe1"
      }
    },
    {
      "cell_type": "code",
      "source": [
        "import numpy as np\n",
        "\n",
        "class ScratchLinearRegression():\n",
        "    \"\"\"\n",
        "    線形回帰のスクラッチ実装\n",
        "    \n",
        "    Parameters\n",
        "    ----------\n",
        "    num_iter : int\n",
        "      イテレーション数\n",
        "    lr : float\n",
        "      学習率\n",
        "    no_bias : bool\n",
        "      バイアス項を入れない場合はTrue\n",
        "    verbose : bool\n",
        "      学習過程を出力する場合はTrue\n",
        "    \n",
        "    Attributes\n",
        "    ----------\n",
        "    self.coef_ : 次の形のndarray, shape (n_features,)\n",
        "      パラメータ\n",
        "    self.loss : 次の形のndarray, shape (self.iter,)\n",
        "      訓練データに対する損失の記録\n",
        "    self.val_loss : 次の形のndarray, shape (self.iter,)\n",
        "      検証データに対する損失の記録\n",
        "    \"\"\"\n",
        "    \n",
        "    def __init__(self, num_iter, lr, bias, verbose):\n",
        "        # ハイパーパラメータを属性として記録\n",
        "        self.num_iter = num_iter\n",
        "        self.lr = lr\n",
        "        self.bias = bias\n",
        "        self.verbose = verbose\n",
        "        # 損失を記録する配列を用意\n",
        "        self.loss = np.zeros(self.num_iter)\n",
        "        self.val_loss = np.zeros(self.num_iter)\n",
        "        \n",
        "    def fit(self, X, y, X_val=None, y_val=None):\n",
        "        \"\"\"\n",
        "        線形回帰を学習する。検証データが入力された場合はそれに対する損失と精度もイテレーションごとに計算する。\n",
        "        Learn linear regression. If validation data is entered, the loss and accuracy for it are also calculated for each iteration.\n",
        "        Parameters\n",
        "        ----------\n",
        "        X : 次の形のndarray, shape (n_samples, n_features)\n",
        "            訓練データの特徴量\n",
        "        y : 次の形のndarray, shape (n_samples, )\n",
        "            訓練データの正解値\n",
        "        X_val : 次の形のndarray, shape (n_samples, n_features)\n",
        "            検証データの特徴量\n",
        "        y_val : 次の形のndarray, shape (n_samples, )\n",
        "            検証データの正解値\n",
        "        \"\"\"\n",
        "        #print (X_val)\n",
        "        if self.bias == True:\n",
        "          bias = np.ones((X.shape[0], 1))\n",
        "          X = np.hstack((bias, X))\n",
        "          if X_val is not None:\n",
        "            bias = np.ones((X_val.shape[0], 1))\n",
        "            X_val = np.hstack((bias, X_val))\n",
        "        self.theta = np.zeros(X.shape[1])\n",
        "        self.theta = self.theta.reshape(X.shape[1], 1)\n",
        "        for i in range(self.num_iter):\n",
        "          pred = self._linear_hypothesis(X)\n",
        "          self._gradient_descent(X, y)\n",
        "          loss = self._loss_func(pred, y)\n",
        "          self.loss[i] = loss\n",
        "          if X_val is not None:\n",
        "            pred_val = self._linear_hypothesis(X_val)\n",
        "            loss_val = self._loss_func(pred_val, y_val)\n",
        "            self.val_loss[i] = loss_val\n",
        "          if self.verbose == True:\n",
        "            print('{}回目の学習の損失は{}'.format(i,loss))\n",
        "        \n",
        "    def predict(self, X):\n",
        "        \"\"\"\n",
        "        線形回帰を使い推定する。\n",
        "        Estimate using linear regression.\n",
        "        Parameters\n",
        "        ----------\n",
        "        X : 次の形のndarray, shape (n_samples, n_features)\n",
        "            サンプル\n",
        "        Returns\n",
        "        -------\n",
        "            次の形のndarray, shape (n_samples, 1)\n",
        "            線形回帰による推定結果\n",
        "        \"\"\"\n",
        "        if self.bias == True:\n",
        "          bias = np.ones(X.shape[0]).reshape(X.shape[0], 1)\n",
        "          X = np.hstack([bias, X])\n",
        "        pred_y = self._linear_hypothesis(X)\n",
        "        return pred_y\n",
        "\n",
        "    def _linear_hypothesis(self, X):\n",
        "        \"\"\"\n",
        "        線形の仮定関数を計算する\n",
        "\n",
        "        Parameters\n",
        "        ----------\n",
        "        X : 次の形のndarray, shape (n_samples, n_features)\n",
        "        訓練データ\n",
        "\n",
        "        Returns\n",
        "        -------\n",
        "        次の形のndarray, shape (n_samples, 1)\n",
        "        線形の仮定関数による推定結果\n",
        "\n",
        "        \"\"\"\n",
        "        pred = X @ self.theta\n",
        "        return pred\n",
        "    \n",
        "    def _gradient_descent(self, X, y):\n",
        "        \"\"\"\n",
        "        説明を記述\n",
        "        \"\"\"\n",
        "        m = X.shape[0]\n",
        "        n = X.shape[1]\n",
        "        pred = self._linear_hypothesis(X)\n",
        "        for j in range(n):\n",
        "            gradient = 0\n",
        "            for i in range(m):\n",
        "                gradient += (pred[i] - y[i]) * X[i, j]\n",
        "            self.theta[j] = self.theta[j] - self.lr * (gradient / m)\n",
        "\n",
        "            \n",
        "    def MSE(self, y_pred, y):\n",
        "        \"\"\"\n",
        "        平均二乗誤差の計算\n",
        "\n",
        "        Parameters\n",
        "        ----------\n",
        "        y_pred : 次の形のndarray, shape (n_samples,)\n",
        "          推定した値\n",
        "        y : 次の形のndarray, shape (n_samples,)\n",
        "          正解値\n",
        "\n",
        "        Returns\n",
        "        ----------\n",
        "        mse : numpy.float\n",
        "          平均二乗誤差\n",
        "        \"\"\"\n",
        "        mse = ((y_pred - y) ** 2).sum() / X.shape[0]\n",
        "        return mse\n",
        "\n",
        "    def _loss_func(self, pred, y):\n",
        "        \"\"\"\n",
        "        損失関数\n",
        "        \"\"\"\n",
        "        loss = self.MSE(pred, y)/2\n",
        "        return loss"
      ],
      "metadata": {
        "id": "YtrEbwjL1baS"
      },
      "execution_count": 104,
      "outputs": []
    },
    {
      "cell_type": "markdown",
      "source": [
        "[Problem 6] Learning and estimation"
      ],
      "metadata": {
        "id": "NnT4P4MX8oAb"
      }
    },
    {
      "cell_type": "code",
      "source": [
        "import numpy as np\n",
        "import pandas as pd\n",
        "from sklearn.model_selection import train_test_split\n",
        "from sklearn.preprocessing import StandardScaler\n",
        "dataset = pd.read_csv(\"train.csv\")\n",
        "X = dataset.loc[:, ['GrLivArea', 'YearBuilt']]\n",
        "y = dataset.loc[:, ['SalePrice']]\n",
        "X = X.values\n",
        "y = y.values\n",
        "X_train, X_test, y_train, y_test = train_test_split(X, y, train_size=0.8)\n",
        "\n",
        "scaler = StandardScaler()\n",
        "scaler.fit(X_train)\n",
        "#transform both X_train and X_test\n",
        "X_train= scaler.transform(X_train)\n",
        "X_test= scaler.transform(X_test)\n",
        "\n",
        "# LR in scratch\n",
        "slr = ScratchLinearRegression(num_iter=100, lr=0.01, bias=True, verbose=True)\n",
        "slr.fit(X_train, y_train, X_test, y_test)"
      ],
      "metadata": {
        "colab": {
          "base_uri": "https://localhost:8080/"
        },
        "id": "aMOqa1qp9fIw",
        "outputId": "f1a4a3bf-bdce-41d8-bf7f-36f651092179"
      },
      "execution_count": 42,
      "outputs": [
        {
          "output_type": "stream",
          "name": "stdout",
          "text": [
            "0回目の学習の損失は15631866141.842808\n",
            "1回目の学習の損失は15329990501.38157\n",
            "2回目の学習の損失は15034290351.503935\n",
            "3回目の学習の損失は14744638721.434423\n",
            "4回目の学習の損失は14460911265.69552\n",
            "5回目の学習の損失は14182986209.48682\n",
            "6回目の学習の損失は13910744295.208315\n",
            "7回目の学習の損失は13644068730.103807\n",
            "8回目の学習の損失は13382845135.000725\n",
            "9回目の学習の損失は13126961494.123226\n",
            "10回目の学習の損失は12876308105.95599\n",
            "11回目の学習の損失は12630777535.136497\n",
            "12回目の学習の損失は12390264565.354105\n",
            "13回目の学習の損失は12154666153.234734\n",
            "14回目の学習の損失は11923881383.190382\n",
            "15回目の学習の損失は11697811423.213072\n",
            "16回目の学習の損失は11476359481.593426\n",
            "17回目の学習の損失は11259430764.5443\n",
            "18回目の学習の損失は11046932434.710478\n",
            "19回目の学習の損失は10838773570.545742\n",
            "20回目の学習の損失は10634865126.539019\n",
            "21回目の学習の損失は10435119894.271791\n",
            "22回目の学習の損失は10239452464.28924\n",
            "23回目の学習の損失は10047779188.767963\n",
            "24回目の学習の損失は9860018144.963575\n",
            "25回目の学習の損失は9676089099.421728\n",
            "26回目の学習の損失は9495913472.936499\n",
            "27回目の学習の損失は9319414306.240458\n",
            "28回目の学習の損失は9146516226.410982\n",
            "29回目の学習の損失は8977145413.977797\n",
            "30回目の学習の損失は8811229570.716984\n",
            "31回目の学習の損失は8648697888.117023\n",
            "32回目の学習の損失は8489481016.502761\n",
            "33回目の学習の損失は8333511034.803465\n",
            "34回目の学習の損失は8180721420.951447\n",
            "35回目の学習の損失は8031047022.897999\n",
            "36回目の学習の損失は7884424030.233687\n",
            "37回目の学習の損失は7740789946.400297\n",
            "38回目の学習の損失は7600083561.482027\n",
            "39回目の学習の損失は7462244925.563772\n",
            "40回目の学習の損失は7327215322.644568\n",
            "41回目の学習の損失は7194937245.094573\n",
            "42回目の学習の損失は7065354368.644189\n",
            "43回目の学習の損失は6938411527.894119\n",
            "44回目の学習の損失は6814054692.335486\n",
            "45回目の学習の損失は6692230942.869278\n",
            "46回目の学習の損失は6572888448.814663\n",
            "47回目の学習の損失は6455976445.395927\n",
            "48回目の学習の損失は6341445211.698017\n",
            "49回目の学習の損失は6229246049.080822\n",
            "50回目の学習の損失は6119331260.042637\n",
            "51回目の学習の損失は6011654127.523355\n",
            "52回目の学習の損失は5906168894.638203\n",
            "53回目の学習の損失は5802830744.832993\n",
            "54回目の学習の損失は5701595782.452062\n",
            "55回目の学習の損失は5602421013.710258\n",
            "56回目の学習の損失は5505264328.060516\n",
            "57回目の学習の損失は5410084479.948759\n",
            "58回目の学習の損失は5316841070.947986\n",
            "59回目の学習の損失は5225494532.263637\n",
            "60回目の学習の損失は5136006107.602468\n",
            "61回目の学習の損失は5048337836.397315\n",
            "62回目の学習の損失は4962452537.380325\n",
            "63回目の学習の損失は4878313792.497347\n",
            "64回目の学習の損失は4795885931.156365\n",
            "65回目の学習の損失は4715134014.802982\n",
            "66回目の学習の損失は4636023821.816125\n",
            "67回目の学習の損失は4558521832.717271\n",
            "68回目の学習の損失は4482595215.68665\n",
            "69回目の学習の損失は4408211812.380012\n",
            "70回目の学習の損失は4335340124.039668\n",
            "71回目の学習の損失は4263949297.8936844\n",
            "72回目の学習の損失は4194009113.837173\n",
            "73回目の学習の損失は4125489971.389836\n",
            "74回目の学習の損失は4058362876.923958\n",
            "75回目の学習の損失は3992599431.157217\n",
            "76回目の学習の損失は3928171816.9047947\n",
            "77回目の学習の損失は3865052787.08536\n",
            "78回目の学習の損失は3803215652.975641\n",
            "79回目の学習の損失は3742634272.708388\n",
            "80回目の学習の損失は3683283040.008671\n",
            "81回目の学習の損失は3625136873.1635165\n",
            "82回目の学習の損失は3568171204.220044\n",
            "83回目の学習の損失は3512361968.4073095\n",
            "84回目の学習の損失は3457685593.777224\n",
            "85回目の学習の損失は3404118991.0599594\n",
            "86回目の学習の損失は3351639543.7293797\n",
            "87回目の学習の損失は3300225098.2741213\n",
            "88回目の学習の損失は3249853954.6700397\n",
            "89回目の学習の損失は3200504857.0498266\n",
            "90回目の学習の損失は3152156984.5656877\n",
            "91回目の学習の損失は3104789942.441072\n",
            "92回目の学習の損失は3058383753.207503\n",
            "93回目の学習の損失は3012918848.1226654\n",
            "94回目の学習の損失は2968376058.7659864\n",
            "95回目の学習の損失は2924736608.8079834\n",
            "96回目の学習の損失は2881982105.9498086\n",
            "97回目の学習の損失は2840094534.0294137\n",
            "98回目の学習の損失は2799056245.290877\n",
            "99回目の学習の損失は2758849952.8135195\n"
          ]
        }
      ]
    },
    {
      "cell_type": "code",
      "source": [
        "from sklearn.metrics import mean_squared_error\n",
        "from sklearn.linear_model import LinearRegression\n",
        "\n",
        "#LR in scratch\n",
        "reg_scratch = ScratchLinearRegression(num_iter=100, lr=0.01, bias=True, verbose=True)\n",
        "reg_scratch.fit(X_train, y_train)\n",
        "prediction_reg_scratch = reg_scratch.predict(X_test)\n",
        "\n",
        "\n",
        "# LR in scikit-learn\n",
        "reg = LinearRegression().fit(X_train, y_train)\n",
        "prediction_reg = reg.predict(X_test)\n",
        "\n",
        "# Evaluation using MSE\n",
        "mse_reg_scratch = mean_squared_error(y_test, prediction_reg_scratch)\n",
        "print (\"MSE of ScratchLR: \" + str(mse_reg_scratch))\n",
        "\n",
        "mse_reg = mean_squared_error(y_test, prediction_reg)\n",
        "print (\"MSE of LR: \" + str(mse_reg))"
      ],
      "metadata": {
        "colab": {
          "base_uri": "https://localhost:8080/"
        },
        "id": "VffnloaWBLIa",
        "outputId": "ae0b3dae-a9f3-4f03-ed20-e5e21215635e"
      },
      "execution_count": 43,
      "outputs": [
        {
          "output_type": "stream",
          "name": "stdout",
          "text": [
            "0回目の学習の損失は15631866141.842808\n",
            "1回目の学習の損失は15329990501.38157\n",
            "2回目の学習の損失は15034290351.503935\n",
            "3回目の学習の損失は14744638721.434423\n",
            "4回目の学習の損失は14460911265.69552\n",
            "5回目の学習の損失は14182986209.48682\n",
            "6回目の学習の損失は13910744295.208315\n",
            "7回目の学習の損失は13644068730.103807\n",
            "8回目の学習の損失は13382845135.000725\n",
            "9回目の学習の損失は13126961494.123226\n",
            "10回目の学習の損失は12876308105.95599\n",
            "11回目の学習の損失は12630777535.136497\n",
            "12回目の学習の損失は12390264565.354105\n",
            "13回目の学習の損失は12154666153.234734\n",
            "14回目の学習の損失は11923881383.190382\n",
            "15回目の学習の損失は11697811423.213072\n",
            "16回目の学習の損失は11476359481.593426\n",
            "17回目の学習の損失は11259430764.5443\n",
            "18回目の学習の損失は11046932434.710478\n",
            "19回目の学習の損失は10838773570.545742\n",
            "20回目の学習の損失は10634865126.539019\n",
            "21回目の学習の損失は10435119894.271791\n",
            "22回目の学習の損失は10239452464.28924\n",
            "23回目の学習の損失は10047779188.767963\n",
            "24回目の学習の損失は9860018144.963575\n",
            "25回目の学習の損失は9676089099.421728\n",
            "26回目の学習の損失は9495913472.936499\n",
            "27回目の学習の損失は9319414306.240458\n",
            "28回目の学習の損失は9146516226.410982\n",
            "29回目の学習の損失は8977145413.977797\n",
            "30回目の学習の損失は8811229570.716984\n",
            "31回目の学習の損失は8648697888.117023\n",
            "32回目の学習の損失は8489481016.502761\n",
            "33回目の学習の損失は8333511034.803465\n",
            "34回目の学習の損失は8180721420.951447\n",
            "35回目の学習の損失は8031047022.897999\n",
            "36回目の学習の損失は7884424030.233687\n",
            "37回目の学習の損失は7740789946.400297\n",
            "38回目の学習の損失は7600083561.482027\n",
            "39回目の学習の損失は7462244925.563772\n",
            "40回目の学習の損失は7327215322.644568\n",
            "41回目の学習の損失は7194937245.094573\n",
            "42回目の学習の損失は7065354368.644189\n",
            "43回目の学習の損失は6938411527.894119\n",
            "44回目の学習の損失は6814054692.335486\n",
            "45回目の学習の損失は6692230942.869278\n",
            "46回目の学習の損失は6572888448.814663\n",
            "47回目の学習の損失は6455976445.395927\n",
            "48回目の学習の損失は6341445211.698017\n",
            "49回目の学習の損失は6229246049.080822\n",
            "50回目の学習の損失は6119331260.042637\n",
            "51回目の学習の損失は6011654127.523355\n",
            "52回目の学習の損失は5906168894.638203\n",
            "53回目の学習の損失は5802830744.832993\n",
            "54回目の学習の損失は5701595782.452062\n",
            "55回目の学習の損失は5602421013.710258\n",
            "56回目の学習の損失は5505264328.060516\n",
            "57回目の学習の損失は5410084479.948759\n",
            "58回目の学習の損失は5316841070.947986\n",
            "59回目の学習の損失は5225494532.263637\n",
            "60回目の学習の損失は5136006107.602468\n",
            "61回目の学習の損失は5048337836.397315\n",
            "62回目の学習の損失は4962452537.380325\n",
            "63回目の学習の損失は4878313792.497347\n",
            "64回目の学習の損失は4795885931.156365\n",
            "65回目の学習の損失は4715134014.802982\n",
            "66回目の学習の損失は4636023821.816125\n",
            "67回目の学習の損失は4558521832.717271\n",
            "68回目の学習の損失は4482595215.68665\n",
            "69回目の学習の損失は4408211812.380012\n",
            "70回目の学習の損失は4335340124.039668\n",
            "71回目の学習の損失は4263949297.8936844\n",
            "72回目の学習の損失は4194009113.837173\n",
            "73回目の学習の損失は4125489971.389836\n",
            "74回目の学習の損失は4058362876.923958\n",
            "75回目の学習の損失は3992599431.157217\n",
            "76回目の学習の損失は3928171816.9047947\n",
            "77回目の学習の損失は3865052787.08536\n",
            "78回目の学習の損失は3803215652.975641\n",
            "79回目の学習の損失は3742634272.708388\n",
            "80回目の学習の損失は3683283040.008671\n",
            "81回目の学習の損失は3625136873.1635165\n",
            "82回目の学習の損失は3568171204.220044\n",
            "83回目の学習の損失は3512361968.4073095\n",
            "84回目の学習の損失は3457685593.777224\n",
            "85回目の学習の損失は3404118991.0599594\n",
            "86回目の学習の損失は3351639543.7293797\n",
            "87回目の学習の損失は3300225098.2741213\n",
            "88回目の学習の損失は3249853954.6700397\n",
            "89回目の学習の損失は3200504857.0498266\n",
            "90回目の学習の損失は3152156984.5656877\n",
            "91回目の学習の損失は3104789942.441072\n",
            "92回目の学習の損失は3058383753.207503\n",
            "93回目の学習の損失は3012918848.1226654\n",
            "94回目の学習の損失は2968376058.7659864\n",
            "95回目の学習の損失は2924736608.8079834\n",
            "96回目の学習の損失は2881982105.9498086\n",
            "97回目の学習の損失は2840094534.0294137\n",
            "98回目の学習の損失は2799056245.290877\n",
            "99回目の学習の損失は2758849952.8135195\n",
            "MSE of ScratchLR: 6508346906.035267\n",
            "MSE of LR: 2956370426.368476\n"
          ]
        }
      ]
    },
    {
      "cell_type": "markdown",
      "source": [
        "[Problem 7] Plot of learning curve"
      ],
      "metadata": {
        "id": "9zlGN0lBELWK"
      }
    },
    {
      "cell_type": "code",
      "source": [
        "import matplotlib.pyplot as plt\n",
        "\n",
        "# LR in scratch\n",
        "slr2 = ScratchLinearRegression(num_iter=5000, lr=0.01, bias=True, verbose=False)\n",
        "slr2.fit(X_train, y_train, X_test, y_test)\n",
        "\n",
        "loss = slr2.loss\n",
        "val_loss = slr2.val_loss\n",
        "\n",
        "plt.plot(loss, label = 'Training loss')\n",
        "plt.plot(val_loss, label = 'Validataion loss')\n",
        "plt.legend()\n",
        "plt.xlabel ('iter')\n",
        "plt.ylabel ('loss')\n",
        "plt.title ('Model loss')\n",
        "plt.show()\n"
      ],
      "metadata": {
        "colab": {
          "base_uri": "https://localhost:8080/",
          "height": 295
        },
        "id": "umtFO7vkEL_V",
        "outputId": "805065b0-5c76-4394-c3e4-3753abeddab5"
      },
      "execution_count": 66,
      "outputs": [
        {
          "output_type": "display_data",
          "data": {
            "text/plain": [
              "<Figure size 432x288 with 1 Axes>"
            ],
            "image/png": "[encoded data removed]"
          },
          "metadata": {
            "needs_background": "light"
          }
        }
      ]
    },
    {
      "cell_type": "markdown",
      "source": [
        "[Problem 8] (Advance task) Removal of bias term"
      ],
      "metadata": {
        "id": "GoPBRCK7KUCK"
      }
    },
    {
      "cell_type": "code",
      "source": [
        "# LR in scratch\n",
        "slr3 = ScratchLinearRegression(num_iter=100, lr=0.01, bias=False, verbose=True)\n",
        "slr3.fit(X_train, y_train)\n",
        "prediction_no_bias = slr3.predict(X_test)\n",
        "\n",
        "mse_reg_no_bias = mean_squared_error(y_test, prediction_no_bias)\n",
        "print (\"MSE of LR with no bias term: \" + str(mse_reg_no_bias))\n",
        "print (\"MSE of LR with with bias term: \" + str(mse_reg_scratch))\n"
      ],
      "metadata": {
        "colab": {
          "base_uri": "https://localhost:8080/"
        },
        "id": "HrMbvUJ4KVtE",
        "outputId": "6414faf4-fa86-4ffa-a0d8-f4f4947bea89"
      },
      "execution_count": 69,
      "outputs": [
        {
          "output_type": "stream",
          "name": "stdout",
          "text": [
            "0回目の学習の損失は15631866141.842808\n",
            "1回目の学習の損失は15588681258.708355\n",
            "2回目の学習の損失は15546523920.0867\n",
            "3回目の学習の損失は15505369599.32917\n",
            "4回目の学習の損失は15465194356.446949\n",
            "5回目の学習の損失は15425974824.059078\n",
            "6回目の学習の損失は15387688193.67737\n",
            "7回目の学習の損失は15350312202.320114\n",
            "8回目の学習の損失は15313825119.446707\n",
            "9回目の学習の損失は15278205734.205517\n",
            "10回目の学習の損失は15243433342.98743\n",
            "11回目の学習の損失は15209487737.277794\n",
            "12回目の学習の損失は15176349191.799572\n",
            "13回目の学習の損失は15143998452.940722\n",
            "14回目の学習の損失は15112416727.459005\n",
            "15回目の学習の損失は15081585671.457535\n",
            "16回目の学習の損失は15051487379.624603\n",
            "17回目の学習の損失は15022104374.73144\n",
            "18回目の学習の損失は14993419597.381681\n",
            "19回目の学習の損失は14965416396.00657\n",
            "20回目の学習の損失は14938078517.099957\n",
            "21回目の学習の損失は14911390095.687355\n",
            "22回目の学習の損失は14885335646.023417\n",
            "23回目の学習の損失は14859900052.512411\n",
            "24回目の学習の損失は14835068560.846292\n",
            "25回目の学習の損失は14810826769.355164\n",
            "26回目の学習の損失は14787160620.565042\n",
            "27回目の学習の損失は14764056392.95798\n",
            "28回目の学習の損失は14741500692.929605\n",
            "29回目の学習の損失は14719480446.939486\n",
            "30回目の学習の損失は14697982893.849516\n",
            "31回目の学習の損失は14676995577.446003\n",
            "32回目の学習の損失は14656506339.140877\n",
            "33回目の学習の損失は14636503310.847864\n",
            "34回目の学習の損失は14616974908.029345\n",
            "35回目の学習の損失は14597909822.909836\n",
            "36回目の学習の損失は14579297017.852072\n",
            "37回目の学習の損失は14561125718.891855\n",
            "38回目の学習の損失は14543385409.427788\n",
            "39回目の学習の損失は14526065824.062197\n",
            "40回目の学習の損失は14509156942.589657\n",
            "41回目の学習の損失は14492648984.129538\n",
            "42回目の学習の損失は14476532401.39914\n",
            "43回目の学習の損失は14460797875.124031\n",
            "44回目の学習の損失は14445436308.58231\n",
            "45回目の学習の損失は14430438822.279572\n",
            "46回目の学習の損失は14415796748.751474\n",
            "47回目の学習の損失は14401501627.49078\n",
            "48回目の学習の損失は14387545199.995966\n",
            "49回目の学習の損失は14373919404.938425\n",
            "50回目の学習の損失は14360616373.445457\n",
            "51回目の学習の損失は14347628424.49624\n",
            "52回目の学習の損失は14334948060.428112\n",
            "53回目の学習の損失は14322567962.550465\n",
            "54回目の学習の損失は14310480986.863745\n",
            "55回目の学習の損失は14298680159.880928\n",
            "56回目の学習の損失は14287158674.549175\n",
            "57回目の学習の損失は14275909886.269077\n",
            "58回目の学習の損失は14264927309.009315\n",
            "59回目の学習の損失は14254204611.51433\n",
            "60回目の学習の損失は14243735613.602852\n",
            "61回目の学習の損失は14233514282.555075\n",
            "62回目の学習の損失は14223534729.58633\n",
            "63回目の学習の損失は14213791206.405235\n",
            "64回目の学習の損失は14204278101.85427\n",
            "65回目の学習の損失は14194989938.630781\n",
            "66回目の学習の損失は14185921370.086536\n",
            "67回目の学習の損失は14177067177.103882\n",
            "68回目の学習の損失は14168422265.046751\n",
            "69回目の学習の損失は14159981660.784632\n",
            "70回目の学習の損失は14151740509.78782\n",
            "71回目の学習の損失は14143694073.29223\n",
            "72回目の学習の損失は14135837725.532072\n",
            "73回目の学習の損失は14128166951.038792\n",
            "74回目の学習の損失は14120677342.004683\n",
            "75回目の学習の損失は14113364595.709616\n",
            "76回目の学習の損失は14106224512.009386\n",
            "77回目の学習の損失は14099252990.884155\n",
            "78回目の学習の損失は14092446030.045624\n",
            "79回目の学習の損失は14085799722.601461\n",
            "80回目の学習の損失は14079310254.775652\n",
            "81回目の学習の損失は14072973903.683422\n",
            "82回目の学習の損失は14066787035.159386\n",
            "83回目の学習の損失は14060746101.637741\n",
            "84回目の学習の損失は14054847640.083155\n",
            "85回目の学習の損失は14049088269.971184\n",
            "86回目の学習の損失は14043464691.317053\n",
            "87回目の学習の損失は14037973682.751587\n",
            "88回目の学習の損失は14032612099.643185\n",
            "89回目の学習の損失は14027376872.26479\n",
            "90回目の学習の損失は14022265004.004658\n",
            "91回目の学習の損失は14017273569.619991\n",
            "92回目の学習の損失は14012399713.532345\n",
            "93回目の学習の損失は14007640648.163828\n",
            "94回目の学習の損失は14002993652.31311\n",
            "95回目の学習の損失は13998456069.570307\n",
            "96回目の学習の損失は13994025306.769745\n",
            "97回目の学習の損失は13989698832.479816\n",
            "98回目の学習の損失は13985474175.5289\n",
            "99回目の学習の損失は13981348923.566587\n",
            "MSE of LR with no bias term: 34133801431.056274\n",
            "MSE of LR with with bias term: 6508346906.035267\n"
          ]
        }
      ]
    },
    {
      "cell_type": "code",
      "source": [
        "#visualization actual SalePrice vs with bias prediction and no bias prediction\n",
        "import matplotlib.pyplot as plt\n",
        "fig, (ax1, ax2) = plt.subplots(1, 2,constrained_layout=True)\n",
        "ax1.scatter(X_test[:,0], y_test, color='red', alpha=0.3, label= 'Actual')\n",
        "ax1.scatter(X_test[:,0], prediction_reg_scratch, color='blue', alpha=0.3, label = 'Prediction with bias')\n",
        "ax1.scatter(X_test[:,0], prediction_no_bias, color='green', alpha=0.3, label = 'Prediction without bias')\n",
        "ax1.set_xlabel('GrLivArea (Standardized)')\n",
        "ax1.set_ylabel('SalePrice')\n",
        "ax1.set_title('Scatter plot of GrLivArea')\n",
        "ax1.legend(loc=2, prop={'size': 8})\n",
        "\n",
        "ax2.scatter(X_test[:,1], y_test, color='red', alpha=0.3, label= 'Actual')\n",
        "ax2.scatter(X_test[:,1], prediction_reg_scratch, color='blue', alpha=0.3, label = 'Prediction with bias')\n",
        "ax2.scatter(X_test[:,1], prediction_no_bias, color='green', alpha=0.3, label = 'Prediction without bias')\n",
        "ax2.set_xlabel('YearBuilt (Standardized)')\n",
        "ax2.set_ylabel('SalePrice')\n",
        "ax2.set_title('Scatter plot of YearBuilt')\n",
        "ax2.legend(loc=2, prop={'size': 8})\n",
        "plt.show()\n",
        "\n",
        "print ('As we can see from this diagram with bias result is close to the actual result while no bias result is far from the actual.')\n",
        "print ('Also the MSE of with bias term is smaller than without bias term result.')"
      ],
      "metadata": {
        "colab": {
          "base_uri": "https://localhost:8080/",
          "height": 349
        },
        "id": "oVFIEzoYLkzX",
        "outputId": "1bd421f6-e1ec-47d3-93cd-f10886552c05"
      },
      "execution_count": 82,
      "outputs": [
        {
          "output_type": "display_data",
          "data": {
            "text/plain": [
              "<Figure size 432x288 with 2 Axes>"
            ],
            "image/png": "[encoded data removed]"
          },
          "metadata": {
            "needs_background": "light"
          }
        },
        {
          "output_type": "stream",
          "name": "stdout",
          "text": [
            "As we can see from this diagram with bias result is close to the actual result while no bias result is far from the actual.\n",
            "Also the MSE of with bias term is smaller than without bias term result.\n"
          ]
        }
      ]
    },
    {
      "cell_type": "markdown",
      "source": [
        "[Problem 9] (Advance task) Multidimensional feature quantity"
      ],
      "metadata": {
        "id": "9L7LKhZROkz-"
      }
    },
    {
      "cell_type": "code",
      "source": [
        "# use four features instead of two\n",
        "\n",
        "dataset = pd.read_csv(\"train.csv\")\n",
        "X = dataset.loc[:, ['GrLivArea', 'YearBuilt', 'MSSubClass', 'LotArea']]\n",
        "y = dataset.loc[:, ['SalePrice']]\n",
        "X = X.values\n",
        "y = y.values\n",
        "X_train, X_test, y_train, y_test = train_test_split(X, y, train_size=0.8)\n",
        "\n",
        "scaler = StandardScaler()\n",
        "scaler.fit(X_train)\n",
        "#transform both X_train and X_test\n",
        "X_train= scaler.transform(X_train)\n",
        "X_test= scaler.transform(X_test)\n",
        "\n",
        "#LR in scratch\n",
        "reg_scratch = ScratchLinearRegression(num_iter=1000, lr=0.01, bias=True, verbose=False)\n",
        "reg_scratch.fit(X_train, y_train)\n",
        "prediction_reg_scratch = reg_scratch.predict(X_test)\n",
        "\n",
        "# LR in scikit-learn\n",
        "reg = LinearRegression().fit(X_train, y_train)\n",
        "prediction_reg = reg.predict(X_test)\n",
        "\n",
        "# Evaluation using MSE\n",
        "mse_reg_scratch = mean_squared_error(y_test, prediction_reg_scratch)\n",
        "print (\"MSE of ScratchLR: \" + str(mse_reg_scratch))\n",
        "\n",
        "mse_reg = mean_squared_error(y_test, prediction_reg)\n",
        "print (\"MSE of LR: \" + str(mse_reg))\n",
        "\n",
        "print ('MSE is reduced.')"
      ],
      "metadata": {
        "colab": {
          "base_uri": "https://localhost:8080/"
        },
        "id": "SHHnmarmOl7Q",
        "outputId": "28fd5bd1-9eb5-425b-a866-3c4056abba4e"
      },
      "execution_count": 107,
      "outputs": [
        {
          "output_type": "stream",
          "name": "stdout",
          "text": [
            "MSE of ScratchLR: 1491090519.4087906\n",
            "MSE of LR: 1491007129.966586\n",
            "MSE is reduced.\n"
          ]
        }
      ]
    },
    {
      "cell_type": "markdown",
      "source": [
        "[Problem 10] (Advance task) Derivation of update formula\n",
        "\n",
        "The gradient descent (GD) procedure is an algorithm for finding the minimum of a function. In ML, GD is used to find the best parameters that minimize the model's cost function (J). \n",
        "\n",
        "Steps to implement Gradient Descent\n",
        "\n",
        "*   Randomly initialize values\n",
        "\n",
        "Repeat until iteration reaches given num_iter\n",
        "*   Update values (theta)\n",
        "\n",
        "![image.png](data:image/png;base64,iVBORw0KGgoAAAANSUhEUgAAAbwAAACdCAIAAABAVVqvAAAgAElEQVR4nO3de1yT1/kA8ANEhKAxJEYMhYhcRIOAgBQQWEEQq4Citto6lela17rR6T7ih05n+9F5oa7O1Xlp19KC1gtj2tYqqJTaCgUFQQsiCASFACLhFiCE3N7fH6d7lx+SmDeEhMDz/esEk3AkyZPznvOc51gQBIEAAADoxtLUHQAAAHMCQRMAACiAoAkAABRA0AQAAAogaAIAAAUQNAEAgAIImgAAQAEETQAAoACCJgAAUABBEwAAKICgCQAAFEDQBAAACiBoAgAABRA0AQCAAgiaAABAAQRNAACggGbqDgAwNhEEIRKJvv/++4KCgvr6+ubmZgaD4eXlFRERsXjx4kmTJpm6g0BPFlC5HYARcvXq1fv374eGhrq5uSGEqqqqsrKy8vPz2Wz2tm3bYmJiLC3hUs/8QNAEwHhUKtWlS5cOHDiAEPrzn/8cHx9vYWFh6k4BauCLDgDjsbS0jIuL27hxo0KhOHHiRHV1tal7BCiDoAmAUVlZWcXGxvJ4vLa2tuzsbKVSaeoeAWogaAJgbFwuNyQkBCF08+bNlpYWU3cHUANBEwBjs7Ky8vf3Rwg1NDTAFbrZgaAJgAk4OTmxWCyEUEVFBSzGmhcImgCYgK2tLZ1ORwi1tbUNDAyYujuAAgiaAJgAg8FgMpkIIaFQKJVKTd0dQAEETQBMSaVSqVQqU/cCUABBE4ARp1KpxGJxV1fXs4PKzs7O7u5uk/QK6Af2ngMwUmQyWXFx8YULFwoLC2UyGf6hn5/fm2++6ejo2NfXZ9ruAf1A0ATA8AiCKCsr27t3b2NjI4PBePvtt+Pi4phMpkgk+vTTT995552oqKjW1lZTdxPoA4ImAAamVCrPnDlz7NgxhULh5eX13nvvubq64n/icDibN2+ur6+/evUq/omVlZWVlZXpOgsogzlNAAxJqVSmpaXhiMnj8dQjJsZms/38/MibTCaTwWAYvZtAfxA0ATCknJyczz77TKFQMBiMlJSUQRETe+GFF8g2m822trY2YgfBcEHQBMBghEJhenq6QqFACK1atSogIOC5D2GxWBMmTBj5rgGDgaAJgGEolcpLly4JBAKEEI/HW758uabJSpFIRLa5XC4ETfMCQRMAw2hpabl+/Tpuh4eHc7ncIe+mVCrb29vJm7NmzTJG54DhQNAEwDAqKysbGhoQQjQa7aWXXtI0zJRIJI8ePcJtLperPr8JzAIETQAMQC6XFxcX4zafz585c6ame4pEIhxbEUK+vr6aBqRg1IKgCYAB9Pf349lMhJCbm5uWwybLy8vJwsO+vr42NjbG6B8wHAiaABhAb2+vWCzGbVdXV01rOzKZ7O7du7jN4/Fw/XZgXiBoAmAAAwMDZDGOadOmabrb48ePCwsLcVvLYhEYzSBoAmBg9vb2Q/5cqVTm5ua2tbUhhLhcbkJCAmygNEcQNAEwAHt7ezabrf0+jx49unLlCm6vW7fOxcVl5PsFDA+CJgAGQKfTZ8yYgdt4R9AgUqn09OnTeAkoNjY2Pj7ewsLCqF0EBgJBEwADsLa2JjdN1tXVDfpXgiCuXbuWnZ2NEPL3909KSsIHBAFzBEETAMMICwsLDAxECBUUFJAr6QghpVKZlZW1f/9+hUIRExNz6NChqVOnmq6bYLgs4PhQAAxFIBCkpKQIBIKwsLBNmzY5OTnV1NScPXs2Pz/fwcHhrbfeWrx4MdQ0MncQNAEwpN7e3itXruTk5FRWVlpaWs6cOXPevHlRUVG+vr6wVj42QNAEAAAK9D/uoqurKycnJy8vr7a2ViwWu7i4LF269NVXX508ebIB+zeWqFSqe/fuXbp06eeff3706BGDwfD19d2wYcO8efNgIRWME/39/V988UVQUJC/vz/Vx+oRcxoaGk6dOvWb3/zGkIVRCOoGBgZOnToVEhKyYcOG4uJihULx8OHDFStWBAQErFixoq6uTo/nHPPq6ureeOONoKCgkydPikSigYGB48ePBwQEBAQEnDx5UqFQmLqDAIy4+/fvr1mzJiMjg+obXu+Yo1Kpbty4kZCQ8MMPP6hUqmH/DwiCICgHza6urnfffTcgIGDTpk1NTU3kzzMzM3EISE5O7uvrM0jnxgb8skVGRgYFBWVmZpJvl6dPn65fvz4gICAoKKigoMC0nQSAlJ6ejsvODykkJGTbtm1tbW2UnlOlUl29enXRokXqHwEdDT/mlJaWxsfH6xGsh0Qt5UgkEu3cufPatWvu7u47duxwdHQk/8nHx4fFYiGE8vLyKioqDDYSNnMEQVy5cuXdd98Vi8W//e1vly1bRq4GsFgsb29vhJBCofj222/7+/tN2lMAfrFhw4asrKyCgoLk5GQa7X8zeDQabevWrdeuXTt8+DClrCmcdLVnz57169evXLmS0oKYQWKOn5/frl27Tp06lZaWplQqdf/tQ6IQNDs6Og4cOFBUVITPcR5UcZrD4UyfPh23b926NcxujQ0EQVy/fv3DDz+UyWQxMTGrV6+eOHEi+a9WVlbu7u64XV5e/uTJExN1E4AhTJw48cUXX+RwOORPQkJC4uPjtVS9GxJBEJcvX/7www9ff/31tWvXUoqYBow5gYGBf/jDH9LT0y9fvkwMb/Vb16AplUqPHj36ww8/IITi4uKCg4MHrV1YWlpaWv7ybI2NjRKJZDjdGhvKysoOHjwoFou5XO7rr78+ZcqUQXcg30AtLS0QNMFoI5PJBgYGyJvBwcF6nDZcXFx85MgRHx+fNWvWUIqYho05FhYWL7/88tKlS48cOUKWi9aPTkGTUNsExuPxEhIS1EdMz+rp6Rly++24IhKJTp48iXeGxMXF8fl87ffv6ekxSr8A0JVQKOzo6MBtDofj6+tLNc1DIBAcPHhQoVBs3LiR0hX9SMQca2vr119/3c7O7m9/+5tQKNS9M4PoFDSrq6tPnDiB+5SQkEAWJtCku7ubrC04PimVyvT09NLSUoSQu7v7kiVLnvsdq37YFgAmRxBEVVUVedPDw8PBwYHSM0il0lOnTjU0NERHR+tymrG6EYo5Li4uK1asEAgEGRkZMpmMUpdIzw+aEokkIyMDFwF0d3ePiIgY8vMvk8n07sTYc/v27a+//hq3ly5dqilHrK+vz4idAoCC3t7eyspK8uacOXOoXpuXlJRkZ2fTaLTo6GhKm0dHLuZYWFiEh4dzOJycnByyhD5Vzw+aP/30U15eHm5r//yTF5iTJk0azzvGxGLxl19+iWdYtLzk6P+ff21nZ2ek/gGgg+bm5pqaGtym0Wje3t6UPtRisfjcuXMKhcLPz2/u3LmUfvWIxhxnZ+eAgACJRJKVlaXf0stzgmZ7ezvOq0IIcbnc0NBQTT3r7Owkj4uaPHmyra2tHr0ZG27cuFFUVITb4eHhml5yqVTa2tpK3sTJEwCMEqWlpeSEpqOjI9WSyRUVFSUlJQihuXPnUtolONIxx8bGxsvLCyFUVFRUW1ure8dIz9lGeefOHTwxhxBasGCBs7Ozpnt2dnaSbVtbW3JVa7wRi8V49hohxOFwwsPDNb3kcrmc/KPR6XQofqPJwMBAcXHxN998U1VV1dzczGAwgoKCEhMTPT098bqEUqmsrq7u7e3F9/f09Hw2UQFQIpVK79+/T97k8/lUEzMLCgpw4Js9ezal5SMjxJw5c+bQaDSJRPLdd995eXlRvSzW9mskEklubi5u0+n0iIgILR/shw8fkm02m63pNL4xr6KioqysDLf9/PzITMxndXZ2NjU14badnZ2mg2XGs4GBgTNnzixbtmz79u1ubm6ff/757du39+7dW1FRsW7dun/84x84UbmlpWXXrl1btmzZsmXLhQsXYCP/8HV0dFRXV5M3vb29tS9eD9Le3o4/BXQ6ndLykXFizrRp03AsLi4u1mMBVlvQrK2tJS8zPTw8tHz+ZTKZepqhk5PT+JzTlMlkubm5ZOpDUFCQlkuGjo4O8o/G4XCYTKYxumg+mpubt27devjwYblcvmfPnjfeeIPNZltaWoaGhv7xj3+k0WinT5++cOECQqiwsLChoQEhRKfTlyxZokcuIRhEIBDU19fjNovFIgf1OhIKhfgUeAcHB0rzTsaJOZMmTcJvEoFAoMcVusbLc4Igbt68SU6Uzp8/X8t/vquri5wzVj8sZaSVlpZu3rzZUM/G5XI/+uijmTNn6v0MTU1NZN4sl8v18fHR8lZ78OABGV55PB5Uh1InEAi2b9/e0NBAo9HefvvtqKgo9Y9EQEAAn8//+eefL126NH/+fHLRYMGCBX5+fibq8thBEMS9e/fImy4uLlqukYdUXV2N39t2dna6H+xhtJhjbW3N5XLv3bunUCiqqqoWLFig+2ORlqDZ1dV1584d8iZBEOo3B6mrq8NfLAihqVOnqu8PHVfKy8vJmWkGg1FfX4/TJp4ll8sLCgrIm+7u7uN2QuNZIpHo4MGDePC4evVq9Q37GIPBmDNnzs8//1xZWfnvf/+bvBJcvnw5DDOHb1CykaenJ6XLIKVSSaaO29nZ6T4ANEnMefz4sUwmo7SioDFoNjU1qQ9c09LS0tLSdHlGqnPGY4ZcLi8vLydvVldX79ixQ5cH0ul0Pp8/Pic0niWTyT755BNyX8Arr7zy7GyalZWVk5MTbmdmZuJGWFiYr6+vMbs6VqknGyGEqCYbyeXy7u5u3La3t9d9NGC0mGNjY0POtAqFQqlUapigWVNTQ46TY2Jidu3apWmYLZfLP/jgg4sXL+KbVOeMh8Pf3x+nNYwGPT095Nw5nU5PTU0NCQnRdOeKiootW7bgv7Czs7PRJjRGv7t37+bk5OD2qlWrNCVsDUprZTAYCQkJcMSjQVRXV5PJRjwe77k7gAeRyWTk9RYlJok5/f39UqmU0gXK0EFTLperj8+1L2h0dnaS2Qn6bVAdG5qbmx89eoTb2uewEULl5eXk+8Pf398kY/OjR4+mp6cb5Kl27969bNmy4T+Pesqxu7v7ggULdBzjhIeH65JBPX/+/OF20dxQHVUMumDS48JRpVLpUX7NVDGnp6eH6sa8oYOmVCptbm7GbRaLNWPGDC19evjwIbn27+fnx+PxKPVgzGhtbSXjoIuLi5ZUQYlEQr6V6XS67qFhzFNfPA0PDycLf2nHYDBiY2N1GWaOnuuSUUs9HiEjXjiaUcwZOuWov7+fTBzVPsmqVCoLCwtxm0ajRUVFjdtLpKdPn5Jtd3d3LbMkjY2N5Jc5Xgge8c6ZiZKSEvzFQ6fT/f39NX2XEARBJsQghKKjo2E201DIbCGkV7IRQsjS0lKPQYAZxZyhR5rqmzq5XK6WsqMtLS3kf8DHx2c8v3fVN5JrSdEgCKKgoADPGdFotMjISFMt+CYlJSUlJZnkVw9JIpGQYxxHR0dXV1dN9+zt7SUHGhwOZ8mSJUabRh/z7t69S2bC6ZFshNQSeig9ylQxx97enur+saFHmt3d3WSuDJPJVC95PwiZV4wQio2NZbPZuvxWXCxv8eLFq1evJr/WzJpMJiODJovF0vKSi0SiGzdu4LaXl1dISIiO3+QdHR0pKSnBwcH/+te/hl+yfxTq6uoi30vaE1fr6+vJoXp4eDgM1Q1F/XsLUU82wiZMmECGoc7OTrlcrsujRjrmaOmtlt81pKHvrVKpyG8bGxsbTYNtsVhM5hWHhoaGh4fr+Pnv6ek5f/58e3t7e3v72bNnd+zYoV+W4uhJbh80+a1lDrusrAxPeNNotDVr1ug+y15UVIR3mOFj+ahWjhn9enp6yFQVDoejafAok8m++uorfBUPw0zDam1tJYfwNBpt3rx5elxoqyeE9fX16fgFP9IxR516rRwnJycbGxtKDx9WWY2ioiK8AYZOp69cuVL3/VI2NjZkkg2Xy6Ua6c2XWCwm8yQiIiKereCvhZOTE567mTp16pjcc9nX10dmumjZFVdVVUVuT+bz+Z6enkbq3zggEAjIbCEXF5fZs2fr9zyenp74Q93V1YUPLzAUvWOOOoIgVCoVbs+YMYNqrZyhoxWTyXRwcFAvXPas9vb2rKws3E5ISAgODtb9t1pbWycnJwcGBlpYWERGRo6BFKWJEyeqH0GlyY0bN/BLzuVyf/3rX1OazfT29v7888+LiopCQkLIb/LxRiqVZmZmklkK7e3tMpls3K496g1PCnO53OnTp5OfPrlcTqYuIIR8fX11eUsPycnJydXV9eHDhx0dHToGzZGOOeoGBgbwSj0eTVN9+NBB08bGhnwjkiFZHUEQubm5eNuGr6/va6+9RvUSydbWdsmSJRR7O9joSW63sLAg5+CUSuWQf7TW1tbz588jhGg02oYNG6jOxFlYWLi5ubm5uQ2/t6OTLh+b/Px8cpiJ1Gp3EwTxxRdfeHh4hIWFjXhHzdzTp0+Tk5Px3GVycvLq1atx3FRPNmIwGFFRUXqXK7S3t/fy8nr48KFEImltbdVlKskIMYfU2dmJixvNmjVLj5WuoS/PmUwmObX39OlT9RPpMIFAcPr0aYQQj8fbtm3buN1srm727Nn4kqS7u/vZelP46Ge8ZWjt2rXP7qcGTCaTnNRvaWl59pPT2tr6+eefKxQKHo/3q1/9Cv8E/6mfPn169+5dqoVyx6fy8nIyOGZnZ5PzyOrJRjpuFtBkwoQJkZGR+ONQVVWly5G5xow5bW1teBbCz89Pjwv8oYMmnU4PDAzE7aampkEHJYpEotTU1JaWFjabvXXrVlwGGXh4eJDnMpNbgzB89POpU6cQQrGxsYmJibB28awpU6aQNYpqamrIosKYRCI5fvx4dXU1l8tNTk6OiIhACHV3d9+6dYsgiOzs7OnTp0+bNs0E/TY36vHI3t4ef3kTBEEmG3E4nOHvSZ07dy5+NSsqKnQ5adWYMaeiogIhxGAwoqOj9Ri7aFwIWrhwob+/P0KotrZWPQuhu7v78OHDpaWlrq6u+/fv12P1Si6Xi0Si4uLijIwMcoZiDOBwOK+88gpuFxUVka86QRA//vjjkSNHEELr1q3bvn071bwwgiB6enoEAsG1a9c++uijxsZGw/Z8lLCysoqOjsbzvGVlZeq1G2QyWXp6+uXLl728vFJTU4ODg8nNQp988klSUtJXX321fPlyqH6vCw8PD3KyUiqV4mHg48ePv/32W4QQjUbbtGmTj4/PMH8Lg8HA82/3798fNIbQZORijjqxWIzXFaKjo/VbRbR6//33h/wHOp3u5ORUUlLS29vb0NAQEhJiZ2dXUVGxd+/eW7durVixIiUlhepugfz8/L/+9a9paWknTpy4fPnyrVu34uPjteQwmx1nZ+f+/v6KigqhUMhms728vPr6+r788stDhw6x2exdu3atXLmS0hd4T0/P4cOHT548efTo0XPnzn333Xc2NjZxcXFjdaA6bdo0Dofz008/yeXyBw8ezJ8/n8lkNjc3Hzp06Ouvv96wYcP27dt5PJ6FhYWFhUVJSUlHR4dSqXzy5Mnvfve78PDwcXvICiUsFovBYBQUFKhUqubmZqlUOjAwcOTIkdraWmtr63feeSchIcEghQq5XG51dXV9ff2kSZNefPHF5746IxFznnXnzp309HQ2m71t2zaqhxJjFtqnGzo6OjIzMy9evNje3m5tbe3l5RUZGRkWFubs7Kx31zs6OrZu3VpZWclisY4ePTrGUkZUKtXt27e/+OILfLHj6Og4f/78hQsXBgQEDOewuYsXL+7btw8htGbNmj/96U9jez60qakpPT29qKioubmZRqPx+fzo6OjIyEj1pV68LHDkyBEWi7Vu3brIyEgYZuqOIAiBQHD+/Hnyj+zh4REeHr5o0SIXFxcDZrPcvn07JSVl4sSJf//733VMYBqJmEOSSCTvv/9+Xl6e+goYZYTRtbe3r1+/PiAgYMuWLWKx2PgdMEcXLlwICAgICAjIzc01dV8A0JVCoTh58mRAQMC+ffsGBgZM3R3i22+/DQoK2r17d19fn95PYoLLmba2Nny4h4uLC2TY6UKpVOIJPhaLNW4zNIE5srKyWr9+fWxs7DfffJOTk0PosIw+cgQCwWeffebj45OUlDScyGOCoCkUCvHGDz0OzxyfJBIJnkp3dnbmcrmm7g4AFNDp9KSkJB8fnxMnTjx48MBU3cBnqEyePHnnzp3DLF9r7KBJEARe72exWGM4T9uw2tracNCcPXv2oIrlAIx+U6dO3bt3r5ub265du0xSoAevv1tZWR04cGD4pyQYO2iSRb2cnJwgq05H9fX1eJ+Mp6cnjM2BOXJwcNi3b5+3t3dKSoqR42ZHR8eePXsmTJhw8OBBg2zDMXbQFIlEuKzTnDlz4OBAXRAEUVVVhf5bEdbU3QFAT1OmTNm9e/f69et37typfrLFiGpqavrLX/4SERGxe/duqvnRmhi7vFBTUxPewASDJh319/fjb2YYmwNzZ2VlFR8fv3DhQqMdWM3hcA4cOGDY8ZlRgybx30Po6XT6WMppH1FkiUM3NzcttY3BSCAIQiQSff/99wUFBfX19c3NzQwGw8vLKyIiYvHixQZ5Obq6unJycvLy8mpra8VisYuLy9KlS1999VUtNZjNnTHn5a2trQ2ewGvUy3Ny0OTi4gI1PnREjs35fL7Rvp8BZmFhUVpaKhQK165dm5aWlpOTs2fPHryesGrVqpycnCHr8ehIJpOdPn166dKl2dnZmzdvvn79+tmzZ1Uq1fHjxxMTE8fGiQZjksZtlCOhpaXlzJkzYrE4LCxs4cKFcHmui8uXL5eVldHp9A0bNsDlufG5u7vjAqZ0Op1Op/N4vJiYmOnTp+fm5t64ccPBwWHWrFl6bCzp7u7et2/fl19+OXfu3H379nl6elpaWrLZbEtLy4KCAlwoKzQ0FL4mRyGjjjQbGhqEQiGCQZPOJBIJTmuHsfnoYWlpGRcXt3HjRoVCceLECVzujxKRSLRz585r1665u7vv2LFD/ZX18fHBxcry8vJwch4YbYwaNPHcHJ1O9/DwMObvNV/kWWOenp5jeJLL7FhZWcXGxvJ4vLa2tuzsbErn3HV0dBw4cKCoqIjBYLz99ttkOUGMw+GQBZxu3bplyE4DAzFe0Ozv74dBE1VCoRAf8A1j89GGy+WGhIQghG7evEmeq/NcUqn06NGjP/zwA0IoLi7u2UOiLC0tyWpAjY2N5MEeYPQwXtDs7OysqalBCHl7exsqYWrMI3dPwSm1o42VlRUu/tjQ0KDjFTpBENeuXcvOzkYI8Xi8hIQE7SX+enp6yAMawehhvKD55MkTXD03JCQEloB0IZVK8RKqt7e3HieZgJHm5OSE5x8rKip0KUVRXV194sQJHAcTEhKeu5+vu7tbKpUapKvAgIwUNIn/FtOHM1d1JxKJ8MaJ4OBgKAc1Ctna2uLXpa2t7dkzbQaRSCQZGRltbW0IIXd394iIiCGHDuRRcWDUGqmgSRBESUnJxx9/jE+P6+npwSXmY2Njh1liZAzr7u4+e/bsuXPn8KmnlZWVDQ0Nnp6e+BAxMNowGAx8AL1QKHzukPCnn37Ky8vD7aVLl77wwgtD3q2vr488KGXSpElwTTYKjdSOoJaWltTU1Pr6+sbGRj6fX1FRUVZWFhgYuGjRojFwyvkI+c9//nP8+HGE0KxZs2bPnp2bm0uj0dauXatfUX5gNCqVSnuWe3t7e2ZmJr4w53K5oaGhmqJhZ2cnuaw0efLk4VT7ByNkpEaaEyZMwK83n8+XSCTnz593dHRMTk7W48DM8QMnFbm7u3O53Pz8/B9//HHjxo0vv/yyqfsFEEJIpVKJxeKurq5nB5WdnZ3kQbhDunPnDr7kQggtWLBAywx1Z2cn2ba1tYVTj0ahkRppcjicd99999ixY6dOnbpw4UJoaOh7770HEVO7ZcuWSSSSc+fO/f73v2cymYcPHw4ODoaPjWnJZLLi4uILFy4UFhaSs41+fn5vvvmmo6NjX1/fc59BIpHk5ubiNp1Oj4iI0LIbGucyY2w2G/LMRqERLNgxZ86cf/7znyP3/GPPxIkTExMTExMTTd0RgBBCBEGUlZXt3bu3sbERJ6LHxcUxmUyRSPTpp5++8847UVFRuM6pdrW1tUVFRbjt4eHh7u6u6Z4ymQyfBIM5OTnBnOYoZOzScACYBaVSeebMmWPHjikUCi8vr/fee4+sy8XhcDZv3lxfX3/16lX8EysrK03RjSCImzdvkjnq8+fP13K91dXVhXOZEUJ0On34NcbBSICgCcBgSqUyLS3ts88+UygUPB5PPWJibDbbz8+PnKZkMpmaKjZ2dXXduXOHvEkQhPrNQerq6sjiRlOnToWNc6MTBE0ABsvJycERk8FgpKSkDFn7VT1niM1ma5qmbGpqwruHsbS0tLS0NF36wOfzITlvdIKgCcD/IxQK09PTcXrQqlWrAgICnvsQFoulacWmpqaGvDaPiYnZtWuXpn0Kcrn8gw8+uHjxIr7p7e2tfZMlMBVYmQXgf5RK5aVLl/A1Mo/HW758uabJSpFIRLa5XO6QQVMul6sfhhMUFKQl77Kzs/P+/fu4zeFwfH19IaN5dIKgCcD/tLS0XL9+HbfDw8M1nTKvVCrb29vJm4PKu5GkUmlzczNus1isGTNmaImDDx8+JPON/Pz8eDyeHv0HRgBBE4D/wVtXEUI0Gu2ll17SNMyUSCT4JHqEEJfL1bQnsr+/n0xW176wo1QqCwsLcZtGo0VFRUG1gVELgiYAv5DL5bhCAkKIz+fPnDlT0z3Jk6gRQr6+vpoGpOobyblcrpaD2FpaWsig6ePj4+vrq0f/gXFA0ATgF+TBf+h5Z3+Wl5eTO8R9fX1tbGyGvFt3dzcua4QQYjKZNJrGddfCwkIyCsfGxrLZbF06jAt0Ll68ePXq1XAQm9FA0ATgF729vbi+FELI1dVV04K4TCa7e/cubvN4PFy/fUgqlYqsImxjY6PpYl8sFpMFkEJDQ8PDw3VcAurp6Tl//nx7e7tAIBlR4IMAAASBSURBVDh79qxcLtflUWCYIGgC8IuBgQGyGIeWgz8fP35MXkprWSzSXVFREZ4WoNPpK1eu1L1Eg42NDblriMvlahnJAgOCvzIAQ7C3tx/y50qlMjc3F190c7nchIQELdvDmUymg4OD9v3p7e3tWVlZuJ2QkBAcHKx7J62trZOTkwMDAy0sLCIjIyFFyTggaALwC3t7ezabrf2UtEePHl25cgW3161b5+LiouXONjY25CL4kAU3CYLIzc3F2zF9fX1fe+01qgnttra2S5YsofQQMExweQ7AL9RrZAx5oplUKj19+jSOqrGxsfHx8doHd0wmk1yCf/r06bNHYggEgtOnTyOEeDzetm3bYLO5WYCgCcAvrK2tyU2TdXV1g/5V/SxJf3//pKSk56ZS0un0wMBA3G5qaiLTjzCRSJSamtrS0sJms7du3erl5WWY/wYYYRA0AfifsLAwHOYKCgrIlXSEkFKpzMrK2r9/v0KhiImJOXTokI7VNBYuXIhP+q2trSV3SSKEuru7Dx8+XFpa6urqun//ft1XzElyuVwkEhUXF2dkZJCzosAILHQ5ehSA8UMgEKSkpAgEgrCwsE2bNjk5OdXU1Jw9ezY/P9/BweGtt95avHixltLrzyorK9u9e3dLS4unp+ehQ4emT59+//79jz76qLy8fPny5YmJiVSvyvPz8zMyMp48eULu0UxNTY2KiqL0JEBvEDQBGKy3t/fKlSs5OTmVlZWWlpYzZ86cN29eVFSUr6+vfqXUOzo6MjMzL1682N7ebm1t7eXlFRkZGRYW5uzsrPeSd0dHx9atWysrK1ks1tGjR+FkbKOBoAmAWSKDZlBQ0MGDB/GpfMAIYE4TALPU1taGDxRycXGB6h7GBEETALMkFAo7OjoQQl5eXnD+mjFB0ATA/BAEUVFRgRBisVhubm6m7s74AkETAPPT29uLKxY7OTlp2SYPRgIETQDMD1nQc86cOZoOwgQjBIImAOanqakJ7+b09PSECU0jg6AJgJkhCOLevXsIITqdPuTxwmBEQdAEwMyQFeZdXFygxofxQdAEwMyIRCJcT8TT0xNy2o0PgiYAZqahoUEoFCKE+Hy+pjM5wMiBoAmAmcHJRnQ63cPDw9R9GY8gaAJgTvr7+2traxFMaJoOBE0AzElnZ2dNTQ1CyNvbe8qUKabuzngEQRMAc/LkyZPGxkaEUEhICGRomgQETQDMBkEQd+/eVSgUfD4fCmiaCgRNAEYvgiBKSko+/vhjfGJlT08PPiE9NjZWx/M2gMHBEb4AjF4tLS2pqan19fWNjY18Pr+ioqKsrCwwMHDRokVwyrmpwEgTgNFrwoQJtra2CCE+ny+RSM6fP+/o6JicnMxisUzdtfELjrsAYFR78ODBsWPH6urq7OzsQkNDExMTIWKaFgRNAACgAC7PAQCAAgiaAABAAQRNAACgAIImAABQAEETAAAogKAJAAAUQNAEAAAKIGgCAAAFEDQBAIACCJoAAEABBE0AAKAAgiYAAFAAQRMAACiAoAkAABRA0AQAAAr+D4Kr5ZmMovXJAAAAAElFTkSuQmCC)\n",
        "\n",
        "  where J is loss function and alpha is learning rate.\n",
        "\n",
        "\n"
      ],
      "metadata": {
        "id": "4ho1GbzYXTPR"
      }
    },
    {
      "cell_type": "markdown",
      "source": [
        "[Problem 11] (Advance task) Problem of local optimum solution"
      ],
      "metadata": {
        "id": "7IuuIMHPeBVO"
      }
    },
    {
      "cell_type": "code",
      "source": [
        ""
      ],
      "metadata": {
        "id": "HtBXhHUeXVx9"
      },
      "execution_count": null,
      "outputs": []
    }
  ]
}