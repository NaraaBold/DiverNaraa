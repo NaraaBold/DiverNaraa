{
  "nbformat": 4,
  "nbformat_minor": 0,
  "metadata": {
    "colab": {
      "name": "Deep_neural_network.ipynb",
      "provenance": [],
      "collapsed_sections": [],
      "authorship_tag": "ABX9TyPpkgX5QIzz11bPRE5TDZqZ",
      "include_colab_link": true
    },
    "kernelspec": {
      "name": "python3",
      "display_name": "Python 3"
    },
    "language_info": {
      "name": "python"
    }
  },
  "cells": [
    {
      "cell_type": "markdown",
      "metadata": {
        "id": "view-in-github",
        "colab_type": "text"
      },
      "source": [
        "<a href=\"https://colab.research.google.com/github/NaraaBold/DiverNaraa/blob/main/Deep_neural_network.ipynb\" target=\"_parent\"><img src=\"https://colab.research.google.com/assets/colab-badge.svg\" alt=\"Open In Colab\"/></a>"
      ]
    },
    {
      "cell_type": "markdown",
      "source": [
        "Implementation of Deep neural network in scratch"
      ],
      "metadata": {
        "id": "dSlveV3prEQh"
      }
    },
    {
      "cell_type": "markdown",
      "source": [
        "[Problem 1] Classification of fully connected layers"
      ],
      "metadata": {
        "id": "ImfoyqeRrpvw"
      }
    },
    {
      "cell_type": "code",
      "execution_count": 67,
      "metadata": {
        "id": "eJXsMHKwq7fI"
      },
      "outputs": [],
      "source": [
        "import numpy as np\n",
        "class FC:\n",
        "    \"\"\"\n",
        "    ノード数n_nodes1からn_nodes2への全結合層\n",
        "    Parameters\n",
        "    ----------\n",
        "    n_nodes1 : int\n",
        "      前の層のノード数\n",
        "    n_nodes2 : int\n",
        "      後の層のノード数\n",
        "    initializer : 初期化方法のインスタンス\n",
        "    optimizer : 最適化手法のインスタンス\n",
        "    \"\"\"\n",
        "    def __init__(self, n_nodes1, n_nodes2, initializer, optimizer):\n",
        "        self.optimizer = optimizer\n",
        "        # 初期化\n",
        "        # initializerのメソッドを使い、self.Wとself.Bを初期化する\n",
        "        self.n_nodes1 = n_nodes1\n",
        "        self.n_nodes2 = n_nodes2\n",
        "        self.W = initializer.W(n_nodes1, n_nodes2)\n",
        "        self.B = initializer.B(n_nodes2)\n",
        "        \n",
        "        pass\n",
        "    def forward(self, X):\n",
        "        \"\"\"\n",
        "        フォワード\n",
        "        Parameters\n",
        "        ----------\n",
        "        X : 次の形のndarray, shape (batch_size, n_nodes1)\n",
        "            入力\n",
        "        Returns\n",
        "        ----------\n",
        "        A : 次の形のndarray, shape (batch_size, n_nodes2)\n",
        "            出力\n",
        "        \"\"\"       \n",
        "        self.X = X \n",
        "        A = X @ self.W + self.B\n",
        "        return A\n",
        "\n",
        "    def backward(self, dA):\n",
        "        \"\"\"\n",
        "        バックワード\n",
        "        Parameters\n",
        "        ----------\n",
        "        dA : 次の形のndarray, shape (batch_size, n_nodes2)\n",
        "            後ろから流れてきた勾配\n",
        "        Returns\n",
        "        ----------\n",
        "        dZ : 次の形のndarray, shape (batch_size, n_nodes1)\n",
        "            前に流す勾配\n",
        "        \"\"\"\n",
        "\n",
        "        self.dW = self.X.T @ dA\n",
        "        self.dB = np.sum(dA, axis=0)\n",
        "        dZ = dA @ self.W.T\n",
        "\n",
        "\n",
        "        self = self.optimizer.update(self)\n",
        "        return dZ"
      ]
    },
    {
      "cell_type": "markdown",
      "source": [
        "[Problem 2] Classification of initialization method"
      ],
      "metadata": {
        "id": "g92ZLxaAubrF"
      }
    },
    {
      "cell_type": "code",
      "source": [
        "class SimpleInitializer:\n",
        "    \"\"\"\n",
        "    ガウス分布によるシンプルな初期化\n",
        "    Parameters\n",
        "    ----------\n",
        "    sigma : float\n",
        "      ガウス分布の標準偏差\n",
        "    \"\"\"\n",
        "    def __init__(self, sigma):\n",
        "        self.sigma = sigma\n",
        "\n",
        "    def W(self, n_nodes1, n_nodes2):\n",
        "        \"\"\"\n",
        "        重みの初期化\n",
        "        Parameters\n",
        "        ----------\n",
        "        n_nodes1 : int\n",
        "          前の層のノード数\n",
        "        n_nodes2 : int\n",
        "          後の層のノード数\n",
        "\n",
        "        Returns\n",
        "        ----------\n",
        "        W :\n",
        "        \"\"\"\n",
        "        W = self.sigma * np.random.randn(n_nodes1, n_nodes2)\n",
        "        return W\n",
        "        \n",
        "    def B(self, n_nodes2):\n",
        "        \"\"\"\n",
        "        バイアスの初期化\n",
        "        Parameters\n",
        "        ----------\n",
        "        n_nodes2 : int\n",
        "          後の層のノード数\n",
        "\n",
        "        Returns\n",
        "        ----------\n",
        "        B :\n",
        "        \"\"\"\n",
        "        B = self.sigma * np.random.randn(1, n_nodes2)\n",
        "        return B"
      ],
      "metadata": {
        "id": "SMVJu9houcV_"
      },
      "execution_count": 2,
      "outputs": []
    },
    {
      "cell_type": "markdown",
      "source": [
        "[Problem 3] Classification of optimization methods"
      ],
      "metadata": {
        "id": "qu6A8VYBvjwB"
      }
    },
    {
      "cell_type": "code",
      "source": [
        "class SGD:\n",
        "    \"\"\"\n",
        "    確率的勾配降下法\n",
        "    Parameters\n",
        "    ----------\n",
        "    lr : 学習率\n",
        "    \"\"\"\n",
        "    def __init__(self, lr):\n",
        "        self.lr = lr\n",
        "    def update(self, layer):\n",
        "        \"\"\"\n",
        "        ある層の重みやバイアスの更新\n",
        "        Parameters\n",
        "        ----------\n",
        "        layer : 更新前の層のインスタンス\n",
        "        \"\"\"\n",
        "        layer.W -= self.lr * layer.dW\n",
        "        layer.B -= self.lr * layer.dB\n",
        "        return layer"
      ],
      "metadata": {
        "id": "wP-WaEV-vizY"
      },
      "execution_count": 66,
      "outputs": []
    },
    {
      "cell_type": "markdown",
      "source": [
        "[Problem 4] Classification of activation function"
      ],
      "metadata": {
        "id": "375mko-TxkkQ"
      }
    },
    {
      "cell_type": "code",
      "source": [
        "class Softmax:\n",
        "  \"\"\"\n",
        "  Activation function Softmax\n",
        "  \"\"\"\n",
        "  def __init__(self, batch_size):\n",
        "      self.batch_size = batch_size\n",
        "      pass\n",
        "  \n",
        "  def forward(self, X):\n",
        "    result = np.exp(X) / np.sum(np.exp(X), axis=1, keepdims=True)\n",
        "    return result\n",
        "\n",
        "  def backward(self, dX, y):\n",
        "    result = (dX - y)/self.batch_size\n",
        "    return result"
      ],
      "metadata": {
        "id": "txqflpn03kTg"
      },
      "execution_count": 63,
      "outputs": []
    },
    {
      "cell_type": "markdown",
      "source": [
        "[Problem 5] Creating a ReLU class"
      ],
      "metadata": {
        "id": "VFLjlNmq5dEC"
      }
    },
    {
      "cell_type": "code",
      "source": [
        "class Tanh:\n",
        "  \"\"\"\n",
        "  Activation function Tanh\n",
        "  \"\"\"\n",
        "  def __init__(self):\n",
        "      pass\n",
        "  \n",
        "  def forward(self, X):\n",
        "    self.tanh = (np.exp(X)-np.exp(-X))/(np.exp(X)+np.exp(-X))\n",
        "    return self.tanh\n",
        "\n",
        "  def backward(self, dX):\n",
        "    result = dX * (1 - self.tanh**2)\n",
        "    return result"
      ],
      "metadata": {
        "id": "QDCX-KXFxlFj"
      },
      "execution_count": 17,
      "outputs": []
    },
    {
      "cell_type": "code",
      "source": [
        "class Relu:\n",
        "  \"\"\"\n",
        "  Activation function Relu\n",
        "  \"\"\"\n",
        "  def __init__(self):\n",
        "      pass\n",
        "  \n",
        "  def forward(self, X):\n",
        "    self.X = X\n",
        "    result = np.max([np.zeros(X.shape), X], axis=0) \n",
        "    return result\n",
        "\n",
        "  def backward(self, dX):\n",
        "    Z = self.X\n",
        "    dZ = np.array(dX, copy=True) # just converting dz to a correct object.\n",
        "    # When z <= 0, you should set dz to 0 as well. \n",
        "    dZ[Z <= 0] = 0\n",
        "    return dZ"
      ],
      "metadata": {
        "id": "4e3MGJexzb65"
      },
      "execution_count": 185,
      "outputs": []
    },
    {
      "cell_type": "markdown",
      "source": [
        "[Problem 6] Initial value of weight"
      ],
      "metadata": {
        "id": "cvKX5eiz5ju4"
      }
    },
    {
      "cell_type": "code",
      "source": [
        "# XavierInitializer\n",
        "class XavierInitializer:\n",
        "    \"\"\"\n",
        "    XavierInitializer\n",
        "    Parameters\n",
        "    ----------\n",
        "    \"\"\"\n",
        "    def __init__(self):\n",
        "      pass\n",
        "\n",
        "    def W(self, n_nodes1, n_nodes2):\n",
        "        \"\"\"\n",
        "        重みの初期化\n",
        "        Parameters\n",
        "        ----------\n",
        "        n_nodes1 : int\n",
        "          前の層のノード数\n",
        "        n_nodes2 : int\n",
        "          後の層のノード数\n",
        "\n",
        "        Returns\n",
        "        ----------\n",
        "        W :\n",
        "        \"\"\"\n",
        "        self.xavier = 1/np.sqrt(n_nodes1)\n",
        "        W = self.xavier * np.random.randn(n_nodes1, n_nodes2)\n",
        "        return W\n",
        "        \n",
        "    def B(self, n_nodes2):\n",
        "        \"\"\"\n",
        "        バイアスの初期化\n",
        "        Parameters\n",
        "        ----------\n",
        "        n_nodes2 : int\n",
        "          後の層のノード数\n",
        "\n",
        "        Returns\n",
        "        ----------\n",
        "        B :\n",
        "        \"\"\"\n",
        "        B = self.xavier * np.random.randn(1, n_nodes2)\n",
        "        return B"
      ],
      "metadata": {
        "id": "8m7UrXe37fUx"
      },
      "execution_count": 6,
      "outputs": []
    },
    {
      "cell_type": "code",
      "source": [
        "# HeInitializer\n",
        "class HeInitializer:\n",
        "    \"\"\"\n",
        "    HeInitializer\n",
        "    Parameters\n",
        "    ----------\n",
        "    \"\"\"\n",
        "    def __init__(self):\n",
        "      pass\n",
        "\n",
        "    def W(self, n_nodes1, n_nodes2):\n",
        "        \"\"\"\n",
        "        重みの初期化\n",
        "        Parameters\n",
        "        ----------\n",
        "        n_nodes1 : int\n",
        "          前の層のノード数\n",
        "        n_nodes2 : int\n",
        "          後の層のノード数\n",
        "\n",
        "        Returns\n",
        "        ----------\n",
        "        W :\n",
        "        \"\"\"\n",
        "        self.he = np.sqrt(2/n_nodes1)\n",
        "        W = self.he * np.random.randn(n_nodes1, n_nodes2)\n",
        "        return W\n",
        "        \n",
        "    def B(self, n_nodes2):\n",
        "        \"\"\"\n",
        "        バイアスの初期化\n",
        "        Parameters\n",
        "        ----------\n",
        "        n_nodes2 : int\n",
        "          後の層のノード数\n",
        "\n",
        "        Returns\n",
        "        ----------\n",
        "        B :\n",
        "        \"\"\"\n",
        "        B = self.he * np.random.randn(1, n_nodes2)\n",
        "        return B"
      ],
      "metadata": {
        "id": "e6vD0RKJ5m7f"
      },
      "execution_count": 7,
      "outputs": []
    },
    {
      "cell_type": "markdown",
      "source": [
        "[Problem 7] Optimization method"
      ],
      "metadata": {
        "id": "XrwfurXO76Pe"
      }
    },
    {
      "cell_type": "code",
      "source": [
        "class AdaGrad:\n",
        "    \"\"\"\n",
        "    Parameters\n",
        "    ----------\n",
        "    lr : 学習率\n",
        "    \"\"\"\n",
        "    def __init__(self, lr):\n",
        "        self.lr = lr\n",
        "        self.HW = 0\n",
        "        self.HB = 0\n",
        "\n",
        "    def update(self, layer):\n",
        "        \"\"\"\n",
        "        ある層の重みやバイアスの更新\n",
        "        Parameters\n",
        "        ----------\n",
        "        layer : 更新前の層のインスタンス\n",
        "        \"\"\"\n",
        "        self.HW += layer.dW * layer.dW\n",
        "        self.HB += layer.dB * layer.dB\n",
        "        layer.W -= self.lr *(1/np.sqrt(self.HW + 1e-7) * layer.dW) # divided by zero occured so I'm adding  1e-7\n",
        "        layer.B -= self.lr *(1/np.sqrt(self.HB + 1e-7) * layer.dB)\n",
        "        return layer"
      ],
      "metadata": {
        "id": "f4a9msbO78TK"
      },
      "execution_count": 153,
      "outputs": []
    },
    {
      "cell_type": "markdown",
      "source": [
        "[Problem 8] Completion of class"
      ],
      "metadata": {
        "id": "tgk4YrOREa9r"
      }
    },
    {
      "cell_type": "code",
      "source": [
        "class GetMiniBatch:\n",
        "    \"\"\"\n",
        "    ミニバッチを取得するイテレータ\n",
        "\n",
        "    Parameters\n",
        "    ----------\n",
        "    X : 次の形のndarray, shape (n_samples, n_features)\n",
        "      訓練データ\n",
        "    y : 次の形のndarray, shape (n_samples, 1)\n",
        "      正解値\n",
        "    batch_size : int\n",
        "      バッチサイズ\n",
        "    seed : int\n",
        "      NumPyの乱数のシード\n",
        "    \"\"\"\n",
        "    def __init__(self, X, y, batch_size = 20, seed=0):\n",
        "        self.batch_size = batch_size\n",
        "        np.random.seed(seed)\n",
        "        shuffle_index = np.random.permutation(np.arange(X.shape[0]))\n",
        "        self._X = X[shuffle_index]\n",
        "        self._y = y[shuffle_index]\n",
        "        self._stop = np.ceil(X.shape[0]/self.batch_size).astype(np.int)\n",
        "\n",
        "    def __len__(self):\n",
        "        return self._stop\n",
        "\n",
        "    def __getitem__(self,item):\n",
        "        p0 = item*self.batch_size\n",
        "        p1 = item*self.batch_size + self.batch_size\n",
        "        return self._X[p0:p1], self._y[p0:p1]        \n",
        "\n",
        "    def __iter__(self):\n",
        "        self._counter = 0\n",
        "        return self\n",
        "\n",
        "    def __next__(self):\n",
        "        if self._counter >= self._stop:\n",
        "            raise StopIteration()\n",
        "        p0 = self._counter*self.batch_size\n",
        "        p1 = self._counter*self.batch_size + self.batch_size\n",
        "        self._counter += 1\n",
        "        return self._X[p0:p1], self._y[p0:p1]"
      ],
      "metadata": {
        "id": "Tii3CXtqUWk5"
      },
      "execution_count": 10,
      "outputs": []
    },
    {
      "cell_type": "code",
      "source": [
        "class ScratchDeepNeuralNetworkClassifier():\n",
        "    \"\"\"\n",
        "    DeepNeuralNetworkClassifier\n",
        "\n",
        "    Parameters\n",
        "    ----------\n",
        "\n",
        "    Attributes\n",
        "    ----------\n",
        "    \"\"\"\n",
        "\n",
        "    def __init__(self,batch_size = 20,n_features = 784,n_nodes1 = 400,n_nodes2 = 200,n_output = 10,sigma = 0.02,lr = 0.01,epoch = 10, verbose=True):\n",
        "        self.verbose = verbose\n",
        "        self.batch_size = batch_size\n",
        "        self.n_features = n_features\n",
        "        self.n_nodes1 = n_nodes1\n",
        "        self.n_nodes2 = n_nodes2 \n",
        "        self.n_output = n_output\n",
        "        self.sigma = sigma\n",
        "        self.lr = lr\n",
        "        self.epoch = epoch\n",
        "        self.loss_train = []\n",
        "        self.loss_val = []\n",
        "\n",
        "    def fit(self, X, y, X_val=None, y_val=None):\n",
        "      # self.sigma : ガウス分布の標準偏差\n",
        "      # self.lr : 学習率\n",
        "      # self.n_nodes1 : 1層目のノード数\n",
        "      # self.n_nodes2 : 2層目のノード数\n",
        "      # self.n_output : 出力層のノード数\n",
        "      \n",
        "      optimizer = SGD(self.lr)\n",
        "      self.FC1 = FC(self.n_features, self.n_nodes1, SimpleInitializer(self.sigma), optimizer)\n",
        "      self.activation1 = Tanh()\n",
        "      self.FC2 = FC(self.n_nodes1, self.n_nodes2, SimpleInitializer(self.sigma), optimizer)\n",
        "      self.activation2 = Tanh()\n",
        "      self.FC3 = FC(self.n_nodes2, self.n_output, SimpleInitializer(self.sigma), optimizer)\n",
        "      self.activation3 = Softmax(batch_size = self.batch_size)\n",
        "      for i in range(self.epoch):\n",
        "        get_mini_batch = GetMiniBatch(X, y, batch_size=self.batch_size)\n",
        "        for mini_X_train, mini_y_train in get_mini_batch:\n",
        "          self.forward(mini_X_train)\n",
        "          self.backward(mini_X_train, mini_y_train)\n",
        "          self.loss_train.append(self.cross_entropy_error(mini_y_train, self.Z3))\n",
        "        print (i)\n",
        "        if X_val is not None:\n",
        "          self.forward(X_val)\n",
        "          self.loss_val.append(self.cross_entropy_error(y_val, self.Z3))\n",
        "      if self.verbose:\n",
        "        if X_val is None:\n",
        "            print(self.loss_train)\n",
        "        else:\n",
        "            print(self.loss_train,self.loss_val)\n",
        "\n",
        "    def predict(self, X):\n",
        "        \"\"\"\n",
        "        ニューラルネットワーク分類器を使い推定する。\n",
        "\n",
        "        Parameters\n",
        "        ----------\n",
        "        X : 次の形のndarray, shape (n_samples, n_features)\n",
        "            サンプル\n",
        "\n",
        "        Returns\n",
        "        -------\n",
        "            次の形のndarray, shape (n_samples, 1)\n",
        "            推定結果\n",
        "        \"\"\"\n",
        "        self.forward(X)\n",
        "        return np.argmax(self.Z3, axis=1)\n",
        "\n",
        "    def forward(self, X):\n",
        "      A1 = self.FC1.forward(X)\n",
        "      Z1 = self.activation1.forward(A1)\n",
        "      A2 = self.FC2.forward(Z1)\n",
        "      Z2 = self.activation2.forward(A2)\n",
        "      A3 = self.FC3.forward(Z2)\n",
        "      self.Z3 = self.activation3.forward(A3)\n",
        "      #print (\"Z3: \" + str(self.Z3.shape))\n",
        "    \n",
        "    def backward(self, X, y):\n",
        "      dA3 = self.activation3.backward(self.Z3, y) # 交差エントロピー誤差とソフトマックスを合わせている\n",
        "      dZ2 = self.FC3.backward(dA3)\n",
        "      dA2 = self.activation2.backward(dZ2)\n",
        "      dZ1 = self.FC2.backward(dA2)\n",
        "      dA1 = self.activation1.backward(dZ1)\n",
        "      dZ0 = self.FC1.backward(dA1) # dZ0は使用しない\n",
        "\n",
        "    def cross_entropy_error(self, y, Z):\n",
        "      L = - np.sum(y * np.log(Z+1e-7)) / len(y)\n",
        "      return L\n"
      ],
      "metadata": {
        "id": "isabeh5SEfPq"
      },
      "execution_count": 72,
      "outputs": []
    },
    {
      "cell_type": "code",
      "source": [
        "# data preperation\n",
        "from keras.datasets import mnist\n",
        "(X_train, y_train), (X_test, y_test) = mnist.load_data()\n",
        "print(X_train.shape) # (60000, 28, 28)\n",
        "print(X_test.shape) # (10000, 28, 28)\n",
        "print(X_train[0].dtype) # uint8\n",
        "\n",
        "#flattened\n",
        "X_train = X_train.reshape(-1, 784)\n",
        "X_test = X_test.reshape(-1, 784)\n",
        "\n",
        "#Preprocessing \n",
        "X_train = X_train.astype(np.float)\n",
        "X_test = X_test.astype(np.float)\n",
        "X_train /= 255\n",
        "X_test /= 255\n",
        "print(X_train.max()) # 1.0\n",
        "print(X_train.min()) # 0.0\n",
        "\n",
        "from sklearn.preprocessing import OneHotEncoder\n",
        "enc = OneHotEncoder(handle_unknown='ignore', sparse=False)\n",
        "y_train_one_hot = enc.fit_transform(y_train[:, np.newaxis])\n",
        "y_test_one_hot = enc.transform(y_test[:, np.newaxis])\n",
        "print(y_train.shape) # (60000,)\n",
        "print(y_train_one_hot.shape) # (60000, 10)\n",
        "print(y_train_one_hot.dtype) # float64\n",
        "\n",
        "from sklearn.model_selection import train_test_split\n",
        "\n",
        "X_train, X_val, y_train, y_val = train_test_split(X_train, y_train_one_hot, test_size=0.2)\n",
        "print(X_train.shape) # (48000, 784)\n",
        "print(X_val.shape) # (12000, 784)"
      ],
      "metadata": {
        "colab": {
          "base_uri": "https://localhost:8080/"
        },
        "id": "0el4YXfRXoDz",
        "outputId": "765334f7-9285-46cb-c278-235a0fbb5c04"
      },
      "execution_count": 57,
      "outputs": [
        {
          "output_type": "stream",
          "name": "stdout",
          "text": [
            "(60000, 28, 28)\n",
            "(10000, 28, 28)\n",
            "uint8\n",
            "1.0\n"
          ]
        },
        {
          "output_type": "stream",
          "name": "stderr",
          "text": [
            "/usr/local/lib/python3.7/dist-packages/ipykernel_launcher.py:13: DeprecationWarning: `np.float` is a deprecated alias for the builtin `float`. To silence this warning, use `float` by itself. Doing this will not modify any behavior and is safe. If you specifically wanted the numpy scalar type, use `np.float64` here.\n",
            "Deprecated in NumPy 1.20; for more details and guidance: https://numpy.org/devdocs/release/1.20.0-notes.html#deprecations\n",
            "  del sys.path[0]\n",
            "/usr/local/lib/python3.7/dist-packages/ipykernel_launcher.py:14: DeprecationWarning: `np.float` is a deprecated alias for the builtin `float`. To silence this warning, use `float` by itself. Doing this will not modify any behavior and is safe. If you specifically wanted the numpy scalar type, use `np.float64` here.\n",
            "Deprecated in NumPy 1.20; for more details and guidance: https://numpy.org/devdocs/release/1.20.0-notes.html#deprecations\n",
            "  \n"
          ]
        },
        {
          "output_type": "stream",
          "name": "stdout",
          "text": [
            "0.0\n",
            "(60000,)\n",
            "(60000, 10)\n",
            "float64\n",
            "(48000, 784)\n",
            "(12000, 784)\n"
          ]
        }
      ]
    },
    {
      "cell_type": "code",
      "source": [
        "#Learning and estimation\n",
        "nn = ScratchDeepNeuralNetworkClassifier(epoch=10)\n",
        "nn.fit(X_train, y_train, X_val, y_val)"
      ],
      "metadata": {
        "id": "pixUDk4sX34a"
      },
      "execution_count": null,
      "outputs": []
    },
    {
      "cell_type": "code",
      "source": [
        "from sklearn.metrics import accuracy_score\n",
        "pred_train = nn.predict(X_val)\n",
        "y_val1 = np.argmax(y_val, axis = 1)\n",
        "accuracy = accuracy_score(y_val1, pred_train)\n",
        "print ('Accuracy: ' + str(accuracy))"
      ],
      "metadata": {
        "colab": {
          "base_uri": "https://localhost:8080/"
        },
        "id": "CfGVAIL8hth9",
        "outputId": "c13c127a-fc5c-4917-94f7-1a0a6c7bd341"
      },
      "execution_count": 74,
      "outputs": [
        {
          "output_type": "stream",
          "name": "stdout",
          "text": [
            "Accuracy: 0.9405\n"
          ]
        }
      ]
    },
    {
      "cell_type": "code",
      "source": [
        "import matplotlib.pyplot as plt\n",
        "%matplotlib inline\n",
        "plt.plot( nn.loss_train, label = 'Training loss')\n",
        "plt.xlabel ('iteration')\n",
        "plt.ylabel ('loss')\n",
        "plt.title ('Training loss')\n",
        "plt.show()"
      ],
      "metadata": {
        "colab": {
          "base_uri": "https://localhost:8080/",
          "height": 295
        },
        "id": "3qkLS_Q0k2bK",
        "outputId": "48b85f1d-016d-459c-af29-a07d93730699"
      },
      "execution_count": 77,
      "outputs": [
        {
          "output_type": "display_data",
          "data": {
            "text/plain": [
              "<Figure size 432x288 with 1 Axes>"
            ],
            "image/png": "[encoded data removed]"
          },
          "metadata": {
            "needs_background": "light"
          }
        }
      ]
    },
    {
      "cell_type": "markdown",
      "source": [
        "[Question 9] Learning and Estimation"
      ],
      "metadata": {
        "id": "BuWHxpsWsY0S"
      }
    },
    {
      "cell_type": "code",
      "source": [
        "class ScratchDeepNeuralNetworkClassifierInf():\n",
        "    \"\"\"\n",
        "    DeepNeuralNetworkClassifier\n",
        "\n",
        "    Parameters\n",
        "    ----------\n",
        "\n",
        "    Attributes\n",
        "    ----------\n",
        "    \"\"\"\n",
        "\n",
        "    def __init__(self, layers, activations, batch_size = 20, n_output = 10,sigma = 0.02, lr = 0.01,epoch = 10, verbose=True):\n",
        "        self.verbose = verbose\n",
        "        self.layers = layers # neural network layer's definition with initializer and optimizer\n",
        "        self.activations = activations\n",
        "        self.batch_size = batch_size\n",
        "        self.n_output = n_output\n",
        "        self.sigma = sigma\n",
        "        self.lr = lr\n",
        "        self.epoch = epoch\n",
        "        self.loss_train = []\n",
        "        self.loss_val = []\n",
        "\n",
        "    def fit(self, X, y, X_val=None, y_val=None):\n",
        "      for i in range(self.epoch):\n",
        "        get_mini_batch = GetMiniBatch(X, y, batch_size=self.batch_size)\n",
        "        for mini_X_train, mini_y_train in get_mini_batch:\n",
        "          self.forward(mini_X_train)\n",
        "          self.backward(mini_X_train, mini_y_train)\n",
        "          self.loss_train.append(self.cross_entropy_error(mini_y_train, self.output))\n",
        "        print (\"Epoch: \" + str(i))\n",
        "        if X_val is not None:\n",
        "          self.forward(X_val)\n",
        "          self.loss_val.append(self.cross_entropy_error(y_val, self.output))\n",
        "      if self.verbose:\n",
        "        if X_val is None:\n",
        "            print(self.loss_train)\n",
        "        else:\n",
        "            print(self.loss_train,self.loss_val)\n",
        "\n",
        "    def predict(self, X):\n",
        "        \"\"\"\n",
        "        ニューラルネットワーク分類器を使い推定する。\n",
        "\n",
        "        Parameters\n",
        "        ----------\n",
        "        X : 次の形のndarray, shape (n_samples, n_features)\n",
        "            サンプル\n",
        "\n",
        "        Returns\n",
        "        -------\n",
        "            次の形のndarray, shape (n_samples, 1)\n",
        "            推定結果\n",
        "        \"\"\"\n",
        "        self.forward(X)\n",
        "        return np.argmax(self.output, axis=1)\n",
        "\n",
        "    def forward(self, X):\n",
        "      for layer in range(len(self.layers)):\n",
        "        X = self.layers[layer].forward(X)\n",
        "        X = self.activations[layer].forward(X)\n",
        "      self.output = X\n",
        "    \n",
        "    def backward(self, X, y):\n",
        "      layer = len(self.layers) - 1\n",
        "      backward = self.activations[layer].backward(self.output, y) # 交差エントロピー誤差とソフトマックスを合わせている\n",
        "      backward = self.layers[layer].backward(backward)\n",
        "      while (layer>0):\n",
        "        layer = layer-1\n",
        "        backward = self.activations[layer].backward(backward)\n",
        "        backward = self.layers[layer].backward(backward)\n",
        "        \n",
        "\n",
        "    def cross_entropy_error(self, y, Z):\n",
        "      L = - np.sum(y * np.log(Z+1e-7)) / len(y)\n",
        "      return L\n"
      ],
      "metadata": {
        "id": "SCcOy0yosZMh"
      },
      "execution_count": 119,
      "outputs": []
    },
    {
      "cell_type": "code",
      "source": [
        "#Same as previous one\n",
        "layers = {0: FC(784, 400, SimpleInitializer(0.01), SGD(0.01)),\n",
        "        1: FC(400, 200, SimpleInitializer(0.01), SGD(0.01)),\n",
        "      2: FC(200, 10, SimpleInitializer(0.01), SGD(0.01))}\n",
        "\n",
        "activations = {0: Tanh(),\n",
        "               1: Tanh(),\n",
        "               2: Softmax(batch_size = 20)}\n",
        "\n",
        "nn = ScratchDeepNeuralNetworkClassifierInf(layers = layers, activations = activations, epoch=10)\n",
        "nn.fit(X_train, y_train, X_val, y_val)"
      ],
      "metadata": {
        "id": "ccasLcERuY4g"
      },
      "execution_count": null,
      "outputs": []
    },
    {
      "cell_type": "code",
      "source": [
        "from sklearn.metrics import accuracy_score\n",
        "pred_train = nn.predict(X_val)\n",
        "y_val1 = np.argmax(y_val, axis = 1)\n",
        "accuracy = accuracy_score(y_val1, pred_train)\n",
        "print ('Accuracy: ' + str(accuracy))"
      ],
      "metadata": {
        "colab": {
          "base_uri": "https://localhost:8080/"
        },
        "id": "FexTQPxl3gsy",
        "outputId": "60ad9020-e57e-4ee4-e55c-b03e24de8571"
      },
      "execution_count": 121,
      "outputs": [
        {
          "output_type": "stream",
          "name": "stdout",
          "text": [
            "Accuracy: 0.9354166666666667\n"
          ]
        }
      ]
    },
    {
      "cell_type": "code",
      "source": [
        "#Changed the initializer and optimizer\n",
        "layers2 = {0: FC(784, 400, HeInitializer(), AdaGrad(0.01)),\n",
        "        1: FC(400, 200, HeInitializer(), AdaGrad(0.01)),\n",
        "      2: FC(200, 10, HeInitializer(), AdaGrad(0.01))}\n",
        "\n",
        "activations2 = {0: Tanh(),\n",
        "               1: Tanh(),\n",
        "               2: Softmax(batch_size = 20)}\n",
        "\n",
        "nn_he_ada = ScratchDeepNeuralNetworkClassifierInf(layers = layers2, activations = activations2, epoch=10)\n",
        "nn_he_ada.fit(X_train, y_train, X_val, y_val)"
      ],
      "metadata": {
        "id": "5KpS5YZD7ksv"
      },
      "execution_count": null,
      "outputs": []
    },
    {
      "cell_type": "code",
      "source": [
        "pred_train2 = nn_he_ada.predict(X_val)\n",
        "accuracy_he_ada = accuracy_score(y_val1, pred_train2)\n",
        "print ('Accuracy: ' + str(accuracy_he_ada))"
      ],
      "metadata": {
        "colab": {
          "base_uri": "https://localhost:8080/"
        },
        "id": "AinYeouOBmgv",
        "outputId": "20b3c66c-4aa5-47df-8513-8a999d73595e"
      },
      "execution_count": 161,
      "outputs": [
        {
          "output_type": "stream",
          "name": "stdout",
          "text": [
            "Accuracy: 0.9753333333333334\n"
          ]
        }
      ]
    },
    {
      "cell_type": "code",
      "source": [
        "#Changed the initializer and optimizer\n",
        "layers3 = {0: FC(784, 400, XavierInitializer(), AdaGrad(0.01)),\n",
        "        1: FC(400, 200, XavierInitializer(), AdaGrad(0.01)),\n",
        "      2: FC(200, 10, XavierInitializer(), AdaGrad(0.01))}\n",
        "\n",
        "activations3 = {0: Relu(),\n",
        "               1: Relu(),\n",
        "               2: Softmax(batch_size = 20)}\n",
        "\n",
        "nn_xavier_ada = ScratchDeepNeuralNetworkClassifierInf(layers = layers3, activations = activations3, epoch=10)\n",
        "nn_xavier_ada.fit(X_train, y_train, X_val, y_val)"
      ],
      "metadata": {
        "id": "PRtliv68G__J"
      },
      "execution_count": null,
      "outputs": []
    },
    {
      "cell_type": "code",
      "source": [
        "pred_train3 = nn_xavier_ada.predict(X_val)\n",
        "accuracy_xavier_relu = accuracy_score(y_val1, pred_train3)\n",
        "print ('Accuracy: ' + str(accuracy_xavier_relu))"
      ],
      "metadata": {
        "colab": {
          "base_uri": "https://localhost:8080/"
        },
        "id": "OdEocRC8Ib2I",
        "outputId": "18ec8ab5-0ea3-4ca1-9851-80d76179c168"
      },
      "execution_count": 187,
      "outputs": [
        {
          "output_type": "stream",
          "name": "stdout",
          "text": [
            "Accuracy: 0.9800833333333333\n"
          ]
        }
      ]
    },
    {
      "cell_type": "code",
      "source": [
        "#visualization\n",
        "plt.plot( nn.loss_train, label = 'Default config loss')\n",
        "plt.plot( nn_he_ada.loss_train, label = 'He with Ada loss')\n",
        "plt.plot( nn_xavier_ada.loss_train, label = 'Xavier with Relu loss')\n",
        "plt.legend()\n",
        "plt.xlabel ('iteration')\n",
        "plt.ylabel ('loss')\n",
        "plt.title ('Training loss')\n",
        "plt.show()"
      ],
      "metadata": {
        "colab": {
          "base_uri": "https://localhost:8080/",
          "height": 295
        },
        "id": "c7T3swVWIAGR",
        "outputId": "1242e8c6-90b1-444a-f24c-722410a41d7a"
      },
      "execution_count": 188,
      "outputs": [
        {
          "output_type": "display_data",
          "data": {
            "text/plain": [
              "<Figure size 432x288 with 1 Axes>"
            ],
            "image/png": "[encoded data removed]"
          },
          "metadata": {
            "needs_background": "light"
          }
        }
      ]
    },
    {
      "cell_type": "code",
      "source": [
        "import pandas as pd\n",
        "d = {'accuracy':[accuracy, accuracy_he_ada, accuracy_xavier_relu]}\n",
        "evaluation_result = pd.DataFrame(data=d, index=['Default', 'He with Ada', 'Xavier with Relu'])\n",
        "print (evaluation_result)"
      ],
      "metadata": {
        "colab": {
          "base_uri": "https://localhost:8080/"
        },
        "id": "UW792nDJLq7v",
        "outputId": "c835009d-5686-4073-93e2-b99341dafe55"
      },
      "execution_count": 189,
      "outputs": [
        {
          "output_type": "stream",
          "name": "stdout",
          "text": [
            "                  accuracy\n",
            "Default           0.935417\n",
            "He with Ada       0.975333\n",
            "Xavier with Relu  0.980083\n"
          ]
        }
      ]
    }
  ]
}