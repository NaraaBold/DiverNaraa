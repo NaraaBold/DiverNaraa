{
  "nbformat": 4,
  "nbformat_minor": 0,
  "metadata": {
    "colab": {
      "name": "utilization_of_object_orientation.ipynb",
      "provenance": [],
      "collapsed_sections": [],
      "authorship_tag": "ABX9TyOdxV6bzr4iiKt6pLx+S2DV",
      "include_colab_link": true
    },
    "kernelspec": {
      "name": "python3",
      "display_name": "Python 3"
    },
    "language_info": {
      "name": "python"
    }
  },
  "cells": [
    {
      "cell_type": "markdown",
      "metadata": {
        "id": "view-in-github",
        "colab_type": "text"
      },
      "source": [
        "<a href=\"https://colab.research.google.com/github/NaraaBold/DiverNaraa/blob/main/utilization_of_object_orientation.ipynb\" target=\"_parent\"><img src=\"https://colab.research.google.com/assets/colab-badge.svg\" alt=\"Open In Colab\"/></a>"
      ]
    },
    {
      "cell_type": "markdown",
      "source": [
        "[Problem 1] List of classes used so far"
      ],
      "metadata": {
        "id": "hxm5Evjr-4_0"
      }
    },
    {
      "cell_type": "markdown",
      "source": [
        "Classes used from Pandas\n",
        "\n",
        "*   DataFrame\n",
        "\n",
        "Classes used from matplotlib\n",
        "\n",
        "*   Figure\n",
        "*   Axes\n",
        "\n",
        "\n",
        "Classes used from scikit-learn\n",
        "*   Classifiers (LinearRegression, SVR, RandomForestRegressor)\n",
        "*   Preprocessing classes: LabelEncoder, SimpleImputer"
      ],
      "metadata": {
        "id": "4APcfAdd_a1M"
      }
    },
    {
      "cell_type": "markdown",
      "source": [
        "[Problem 2] List of methods and instance variables that have been used so far"
      ],
      "metadata": {
        "id": "I7bGO1FoCh4z"
      }
    },
    {
      "cell_type": "markdown",
      "source": [
        "Methods used from Pandas\n",
        "\n",
        "*   head(), isnull(), info(), concat(), dropna()\n",
        "\n",
        "Classes used from matplotlib\n",
        "\n",
        "*  scatter(), plot(), legend(), show(), ylabel(), xlabel()\n",
        "\n",
        "\n",
        "Classes used from scikit-learn\n",
        "*   fit(), predict(), transform()"
      ],
      "metadata": {
        "id": "ENJu989hCpia"
      }
    },
    {
      "cell_type": "markdown",
      "source": [
        "[Problem 3] Create a standardized class by scratch"
      ],
      "metadata": {
        "id": "lsm4KQ8rEIHC"
      }
    },
    {
      "cell_type": "code",
      "source": [
        "import numpy as np\n",
        "from sklearn.datasets import load_iris\n",
        "\n",
        "class ScratchStandardScaler():\n",
        "    \"\"\"\n",
        "    標準化のためのクラス\n",
        "\n",
        "    Attributes\n",
        "    ----------\n",
        "    mean_ : 次の形のndarray, shape(n_features,)\n",
        "        平均\n",
        "    var_ : 次の形のndarray, shape(n_features,)\n",
        "        分散\n",
        "    \"\"\"\n",
        "\n",
        "    def fit(self, X):\n",
        "        \"\"\"\n",
        "        標準化のために平均と標準偏差を計算する。\n",
        "\n",
        "        Parameters\n",
        "        ----------\n",
        "        X : 次の形のndarray, shape (n_samples, n_features)\n",
        "            訓練データ\n",
        "        \"\"\"\n",
        "\n",
        "        self.mean_ = np.mean(X)\n",
        "        self.var_ = np.var(X)\n",
        "\n",
        "        pass\n",
        "\n",
        "    def transform(self, X):\n",
        "        \"\"\"\n",
        "        fitで求めた値を使い標準化を行う。\n",
        "\n",
        "        Parameters\n",
        "        ----------\n",
        "        X : 次の形のndarray, shape (n_samples, n_features)\n",
        "            特徴量\n",
        "\n",
        "        Returns\n",
        "        ----------\n",
        "        X_scaled : 次の形のndarray, shape (n_samples, n_features)\n",
        "            標準化された特徴量\n",
        "        \"\"\"\n",
        "        X_scaled = X - self.mean_\n",
        "        X_scaled = X_scaled/self.var_\n",
        "\n",
        "        pass\n",
        "        return X_scaled"
      ],
      "metadata": {
        "id": "0Q850UYiEKPD"
      },
      "execution_count": 14,
      "outputs": []
    },
    {
      "cell_type": "code",
      "source": [
        "from sklearn.preprocessing import StandardScaler\n",
        "\n",
        "data = load_iris()\n",
        "X = data.data[:10]\n",
        "\n",
        "scaler = StandardScaler()\n",
        "scaler.fit(X)\n",
        "\n",
        "scratch_scaler = ScratchStandardScaler()\n",
        "scratch_scaler.fit(X)\n",
        "print(\"平均 : {}\".format(scratch_scaler.mean_))\n",
        "print(\"分散 : {}\".format(scratch_scaler.var_))\n",
        "X_std = scratch_scaler.transform(X)\n",
        "X_standard = scaler.transform(X)\n",
        "print(X)\n",
        "print(X_std)\n",
        "print(X_standard)"
      ],
      "metadata": {
        "colab": {
          "base_uri": "https://localhost:8080/"
        },
        "id": "-ZRANV2xEZXb",
        "outputId": "1aceac1b-74b6-431a-e90a-8494afdc0bce"
      },
      "execution_count": 15,
      "outputs": [
        {
          "output_type": "stream",
          "name": "stdout",
          "text": [
            "平均 : 2.46\n",
            "分散 : 3.1744\n",
            "[[5.1 3.5 1.4 0.2]\n",
            " [4.9 3.  1.4 0.2]\n",
            " [4.7 3.2 1.3 0.2]\n",
            " [4.6 3.1 1.5 0.2]\n",
            " [5.  3.6 1.4 0.2]\n",
            " [5.4 3.9 1.7 0.4]\n",
            " [4.6 3.4 1.4 0.3]\n",
            " [5.  3.4 1.5 0.2]\n",
            " [4.4 2.9 1.4 0.2]\n",
            " [4.9 3.1 1.5 0.1]]\n",
            "[[ 0.83165323  0.32762097 -0.33392137 -0.71194556]\n",
            " [ 0.76864919  0.17011089 -0.33392137 -0.71194556]\n",
            " [ 0.70564516  0.23311492 -0.36542339 -0.71194556]\n",
            " [ 0.67414315  0.2016129  -0.30241935 -0.71194556]\n",
            " [ 0.80015121  0.35912298 -0.33392137 -0.71194556]\n",
            " [ 0.92615927  0.45362903 -0.23941532 -0.64894153]\n",
            " [ 0.67414315  0.29611895 -0.33392137 -0.68044355]\n",
            " [ 0.80015121  0.29611895 -0.30241935 -0.71194556]\n",
            " [ 0.61113911  0.13860887 -0.33392137 -0.71194556]\n",
            " [ 0.76864919  0.2016129  -0.30241935 -0.74344758]]\n",
            "[[ 0.86828953  0.65207831 -0.48795004 -0.26726124]\n",
            " [ 0.14471492 -1.06391725 -0.48795004 -0.26726124]\n",
            " [-0.57885968 -0.37751902 -1.46385011 -0.26726124]\n",
            " [-0.94064699 -0.72071813  0.48795004 -0.26726124]\n",
            " [ 0.50650222  0.99527742 -0.48795004 -0.26726124]\n",
            " [ 1.95365143  2.02487476  2.43975018  2.40535118]\n",
            " [-0.94064699  0.3088792  -0.48795004  1.06904497]\n",
            " [ 0.50650222  0.3088792   0.48795004 -0.26726124]\n",
            " [-1.66422159 -1.40711636 -0.48795004 -0.26726124]\n",
            " [ 0.14471492 -0.72071813  0.48795004 -1.60356745]]\n"
          ]
        }
      ]
    },
    {
      "cell_type": "markdown",
      "source": [
        "[Problem 4] Creating a class that performs four arithmetic operations"
      ],
      "metadata": {
        "id": "Bxo7_0qOIvMD"
      }
    },
    {
      "cell_type": "code",
      "source": [
        "import warnings\n",
        "\n",
        "class ArithmeticClass():\n",
        "    \"\"\"\n",
        "    説明用の簡単なクラス\n",
        "\n",
        "    Parameters\n",
        "    ----------\n",
        "    value : float or int\n",
        "        初期値\n",
        "\n",
        "    Attributes\n",
        "    ----------\n",
        "    value : float or int\n",
        "        計算結果\n",
        "    \"\"\"\n",
        "    def __init__(self, value):\n",
        "        self.value = value\n",
        "        print(\"初期値{}が設定されました\".format(self.value))\n",
        "        if not isinstance(value,  (int, float, complex)):\n",
        "          warnings.warn(\"The value must be numeric!!!\", DeprecationWarning)\n",
        "    def add(self, value2):\n",
        "        \"\"\"\n",
        "        受け取った引数をself.valueに加える\n",
        "        \"\"\"\n",
        "        if not isinstance(value2,  (int, float, complex)):\n",
        "          warnings.warn(\"The value must be numeric!!!\", DeprecationWarning)\n",
        "        self.value += value2\n",
        "    def sub(self, value2):\n",
        "        \"\"\"\n",
        "        substraction\n",
        "        \"\"\"\n",
        "        if not isinstance(value2,  (int, float, complex)):\n",
        "          warnings.warn(\"The value must be numeric!!!\", DeprecationWarning)\n",
        "        self.value -= value2\n",
        "    def mul(self, value2):\n",
        "        \"\"\"\n",
        "        multiplication\n",
        "        \"\"\"\n",
        "        if not isinstance(value2,  (int, float, complex)):\n",
        "          warnings.warn(\"The value must be numeric!!!\", DeprecationWarning)\n",
        "        self.value *= value2\n",
        "    def div(self, value2):\n",
        "        \"\"\"\n",
        "        division\n",
        "        \"\"\"\n",
        "        if not isinstance(value2,  (int, float, complex)) or value2 == 0:\n",
        "          warnings.warn(\"The value must be numeric!!! or cannot divided by zero!\", DeprecationWarning)\n",
        "        if value2!=0:\n",
        "          self.value /= value2\n",
        "\n",
        "example = ArithmeticClass(5)\n",
        "print(\"value : {}\".format(example.value))\n",
        "example.add(3)\n",
        "print(\"value : {}\".format(example.value))\n",
        "example.mul(3)\n",
        "print(\"value : {}\".format(example.value))\n",
        "example.div(2)\n",
        "print(\"value : {}\".format(example.value))\n",
        "example.div(0)\n",
        "print(\"value : {}\".format(example.value))\n",
        "#example.sub('three')\n",
        "#print(\"value : {}\".format(example.value))\n"
      ],
      "metadata": {
        "colab": {
          "base_uri": "https://localhost:8080/"
        },
        "id": "vILfUylQIvph",
        "outputId": "19ca0ebd-cf44-404c-86ed-1b75950bc8b2"
      },
      "execution_count": 20,
      "outputs": [
        {
          "output_type": "stream",
          "name": "stdout",
          "text": [
            "初期値5が設定されました\n",
            "value : 5\n",
            "value : 8\n",
            "value : 24\n",
            "value : 12.0\n",
            "value : 12.0\n"
          ]
        },
        {
          "output_type": "stream",
          "name": "stderr",
          "text": [
            "/usr/local/lib/python3.7/dist-packages/ipykernel_launcher.py:48: DeprecationWarning: The value must be numeric!!! or cannot divided by zero!\n"
          ]
        }
      ]
    }
  ]
}