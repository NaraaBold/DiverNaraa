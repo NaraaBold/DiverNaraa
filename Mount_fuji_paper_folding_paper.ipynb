{
  "nbformat": 4,
  "nbformat_minor": 0,
  "metadata": {
    "colab": {
      "name": "Mount_fuji_paper_folding_paper.ipynb",
      "provenance": [],
      "collapsed_sections": [],
      "authorship_tag": "ABX9TyM7TzYMbQul9sCGAY+JdOGS",
      "include_colab_link": true
    },
    "kernelspec": {
      "name": "python3",
      "display_name": "Python 3"
    },
    "language_info": {
      "name": "python"
    }
  },
  "cells": [
    {
      "cell_type": "markdown",
      "metadata": {
        "id": "view-in-github",
        "colab_type": "text"
      },
      "source": [
        "<a href=\"https://colab.research.google.com/github/NaraaBold/DiverNaraa/blob/main/Mount_fuji_paper_folding_paper.ipynb\" target=\"_parent\"><img src=\"https://colab.research.google.com/assets/colab-badge.svg\" alt=\"Open In Colab\"/></a>"
      ]
    },
    {
      "cell_type": "markdown",
      "source": [
        "[Problem 1]"
      ],
      "metadata": {
        "id": "7g-aZYa8P2G1"
      }
    },
    {
      "cell_type": "code",
      "execution_count": 3,
      "metadata": {
        "colab": {
          "base_uri": "https://localhost:8080/"
        },
        "id": "ik_pU9qNPtJf",
        "outputId": "9aead7f4-41b6-4c1c-b36f-d7bf9fc87e88"
      },
      "outputs": [
        {
          "output_type": "stream",
          "name": "stdout",
          "text": [
            "Number of times 26\n"
          ]
        }
      ],
      "source": [
        "height_fuji = 3776\n",
        "THICKNESS = 0.00008\n",
        "folded_thickness = THICKNESS\n",
        "n_times = 0\n",
        "while (folded_thickness < height_fuji):\n",
        "  folded_thickness = folded_thickness * 2\n",
        "  n_times = n_times+1\n",
        "\n",
        "print(\"Number of times {}\".format(n_times))"
      ]
    },
    {
      "cell_type": "markdown",
      "source": [
        "[Problem 2]"
      ],
      "metadata": {
        "id": "s5lwO4vLRbGe"
      }
    },
    {
      "cell_type": "code",
      "source": [
        "def calculate_number_times_fold(height):\n",
        "  THICKNESS = 0.00008\n",
        "  folded_thickness = THICKNESS\n",
        "  n_times = 0\n",
        "  while (folded_thickness < height):\n",
        "    folded_thickness = folded_thickness * 2\n",
        "    n_times = n_times+1\n",
        "  return n_times\n",
        "  \n",
        "proxima_centauri = 4.0175 * (10**16)\n",
        "print (\"Number of times {} to reach Proxima Centauri\".format(calculate_number_times_fold(proxima_centauri)))"
      ],
      "metadata": {
        "colab": {
          "base_uri": "https://localhost:8080/"
        },
        "id": "8_n1E9_dReCj",
        "outputId": "78b1fd45-2bc3-4933-83d8-1079bd4b13a1"
      },
      "execution_count": 9,
      "outputs": [
        {
          "output_type": "stream",
          "name": "stdout",
          "text": [
            "Number of times 69 to reach Proxima Centauri\n"
          ]
        }
      ]
    },
    {
      "cell_type": "markdown",
      "source": [
        "[Problem 3]"
      ],
      "metadata": {
        "id": "ge3bgdacSqZ2"
      }
    },
    {
      "cell_type": "code",
      "source": [
        "def calculate_length_of_paper(height):\n",
        "   THICKNESS = 0.00008\n",
        "   Pi = 3.14\n",
        "   n_times = calculate_number_times_fold(height)\n",
        "   length_paper = Pi * THICKNESS * (2**n_times + 4) * (2**n_times - 1) / 6\n",
        "   return length_paper\n",
        "\n",
        "print (\"Length of paper {}m to reach Fuji\".format(calculate_length_of_paper(height_fuji)))\n",
        "print (\"Length of paper {}m to reach Proxima Centauri\".format(calculate_length_of_paper(proxima_centauri)))"
      ],
      "metadata": {
        "colab": {
          "base_uri": "https://localhost:8080/"
        },
        "id": "S0tE1fIwStGB",
        "outputId": "760c2076-1ae5-472c-de8b-8b8fdb605fc5"
      },
      "execution_count": 10,
      "outputs": [
        {
          "output_type": "stream",
          "name": "stdout",
          "text": [
            "Length of paper 188550712828.11795m to reach Fuji\n",
            "Length of paper 1.458840415070545e+37m to reach Proxima Centauri\n"
          ]
        }
      ]
    }
  ]
}