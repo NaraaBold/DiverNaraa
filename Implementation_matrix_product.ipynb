{
  "nbformat": 4,
  "nbformat_minor": 0,
  "metadata": {
    "colab": {
      "name": "Implementation_matrix_product.ipynb",
      "provenance": [],
      "collapsed_sections": [],
      "authorship_tag": "ABX9TyPQ1oxVN02A48mAJOrmy3Yn",
      "include_colab_link": true
    },
    "kernelspec": {
      "name": "python3",
      "display_name": "Python 3"
    },
    "language_info": {
      "name": "python"
    }
  },
  "cells": [
    {
      "cell_type": "markdown",
      "metadata": {
        "id": "view-in-github",
        "colab_type": "text"
      },
      "source": [
        "<a href=\"https://colab.research.google.com/github/NaraaBold/DiverNaraa/blob/main/Implementation_matrix_product.ipynb\" target=\"_parent\"><img src=\"https://colab.research.google.com/assets/colab-badge.svg\" alt=\"Open In Colab\"/></a>"
      ]
    },
    {
      "cell_type": "code",
      "execution_count": 2,
      "metadata": {
        "id": "4Ym96ORelVzl"
      },
      "outputs": [],
      "source": [
        "#Sample matrix\n",
        "import numpy as np\n",
        "a_ndarray = np.array([[-1, 2, 3], [4, -5, 6], [7, 8, -9]])\n",
        "b_ndarray = np.array([[0, 2, 1], [0, 2, -8], [2, 9, -1]])"
      ]
    },
    {
      "cell_type": "markdown",
      "source": [
        "[Problem 1![ML_matrix_product.png](data:image/png;base64,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)]"
      ],
      "metadata": {
        "id": "XC_FLLoM2oiC"
      }
    },
    {
      "cell_type": "markdown",
      "source": [
        "[Problem 2]"
      ],
      "metadata": {
        "id": "LtsT5eOa3J3S"
      }
    },
    {
      "cell_type": "code",
      "source": [
        "print(\"np.dot C = A x B: \\n{}\".format(np.dot(a_ndarray, b_ndarray)))\n",
        "print(\"np.matmul C = A x B: \\n{}\".format(np.matmul(a_ndarray, b_ndarray)))"
      ],
      "metadata": {
        "colab": {
          "base_uri": "https://localhost:8080/"
        },
        "id": "ZjzVsYrlmqVo",
        "outputId": "f08f8b12-5d53-4a4f-d8cf-9f28f6af1ee3"
      },
      "execution_count": 5,
      "outputs": [
        {
          "output_type": "stream",
          "name": "stdout",
          "text": [
            "np.dot C = A x B: \n",
            "[[  6  29 -20]\n",
            " [ 12  52  38]\n",
            " [-18 -51 -48]]\n",
            "np.matmul C = A x B: \n",
            "[[  6  29 -20]\n",
            " [ 12  52  38]\n",
            " [-18 -51 -48]]\n"
          ]
        }
      ]
    },
    {
      "cell_type": "markdown",
      "source": [
        "[Problem 3]"
      ],
      "metadata": {
        "id": "I3usfbfC3M-y"
      }
    },
    {
      "cell_type": "code",
      "source": [
        "C = np.zeros((a_ndarray.shape[0], b_ndarray.shape[1]))\n",
        "print (a_ndarray.shape)\n",
        "\n",
        "for i in range(a_ndarray.shape[0]):\n",
        "  for j in range(b_ndarray.shape[1]):\n",
        "    for k in range(a_ndarray.shape[1]):\n",
        "      C[i, j] = C[i , j] + a_ndarray[i, k] * b_ndarray[k, j] \n",
        "\n",
        "print (C)"
      ],
      "metadata": {
        "colab": {
          "base_uri": "https://localhost:8080/"
        },
        "id": "f79aHZk53PjT",
        "outputId": "1412f341-8d73-44d3-bd23-12497e6e0576"
      },
      "execution_count": 50,
      "outputs": [
        {
          "output_type": "stream",
          "name": "stdout",
          "text": [
            "(3, 3)\n",
            "[[  6.  29. -20.]\n",
            " [ 12.  52.  38.]\n",
            " [-18. -51. -48.]]\n"
          ]
        }
      ]
    },
    {
      "cell_type": "markdown",
      "source": [
        "[Problem 4]"
      ],
      "metadata": {
        "id": "h_Z_pwes6KmL"
      }
    },
    {
      "cell_type": "code",
      "source": [
        "def multiplication (a , b):\n",
        "  if(a.shape[1] == b.shape[0]):\n",
        "    C = np.zeros((a.shape[0], b.shape[1]))\n",
        "    print (C.shape)\n",
        "    for i in range(a.shape[0]):\n",
        "      for j in range(b.shape[1]):\n",
        "        for k in range(a.shape[1]):\n",
        "          C[i, j] = C[i , j] + a[i, k] * b[k, j]\n",
        "    return C\n",
        "  else:\n",
        "    print (\"Multiplication error!\")\n",
        "    return 0\n",
        "\n",
        "print (multiplication (a_ndarray, b_ndarray))"
      ],
      "metadata": {
        "colab": {
          "base_uri": "https://localhost:8080/"
        },
        "id": "52wdIGoT6M1q",
        "outputId": "64e83687-63d9-449c-db89-45cd116f64bc"
      },
      "execution_count": 51,
      "outputs": [
        {
          "output_type": "stream",
          "name": "stdout",
          "text": [
            "(3, 3)\n",
            "[[  6.  29. -20.]\n",
            " [ 12.  52.  38.]\n",
            " [-18. -51. -48.]]\n"
          ]
        }
      ]
    },
    {
      "cell_type": "markdown",
      "source": [
        "[Problem 5]"
      ],
      "metadata": {
        "id": "-4uPNoa-7YS7"
      }
    },
    {
      "cell_type": "code",
      "source": [
        "d_ndarray = np.array([[-1, 2, 3], [4, -5, 6]])\n",
        "e_ndarray = np.array([[-9, 8, 7], [6, -5, 4]])\n",
        "\n",
        "print (multiplication (d_ndarray, e_ndarray))"
      ],
      "metadata": {
        "colab": {
          "base_uri": "https://localhost:8080/"
        },
        "id": "X_Pl1Hdl7ZcB",
        "outputId": "cbbd4196-c41a-497b-e240-0c698912699a"
      },
      "execution_count": 52,
      "outputs": [
        {
          "output_type": "stream",
          "name": "stdout",
          "text": [
            "Multiplication error!\n",
            "0\n"
          ]
        }
      ]
    },
    {
      "cell_type": "markdown",
      "source": [
        "[Problem 6]"
      ],
      "metadata": {
        "id": "1YZoFlFR7a0q"
      }
    },
    {
      "cell_type": "code",
      "source": [
        "print (multiplication(d_ndarray, e_ndarray.T))\n",
        "\n",
        "\n",
        "print (np.dot(d_ndarray, e_ndarray.T))"
      ],
      "metadata": {
        "colab": {
          "base_uri": "https://localhost:8080/"
        },
        "id": "A4atdRI37cpR",
        "outputId": "5b439187-4f66-4412-abab-96ed2d16159a"
      },
      "execution_count": 53,
      "outputs": [
        {
          "output_type": "stream",
          "name": "stdout",
          "text": [
            "(2, 2)\n",
            "[[ 46.  -4.]\n",
            " [-34.  73.]]\n",
            "[[ 46  -4]\n",
            " [-34  73]]\n"
          ]
        }
      ]
    }
  ]
}