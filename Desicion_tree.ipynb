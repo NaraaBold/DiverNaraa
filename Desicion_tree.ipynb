{
  "nbformat": 4,
  "nbformat_minor": 0,
  "metadata": {
    "colab": {
      "name": "Desicion_tree.ipynb",
      "provenance": [],
      "collapsed_sections": [],
      "authorship_tag": "ABX9TyO/JKZQbd4Ti7xNeUgru9dB",
      "include_colab_link": true
    },
    "kernelspec": {
      "name": "python3",
      "display_name": "Python 3"
    },
    "language_info": {
      "name": "python"
    }
  },
  "cells": [
    {
      "cell_type": "markdown",
      "metadata": {
        "id": "view-in-github",
        "colab_type": "text"
      },
      "source": [
        "<a href=\"https://colab.research.google.com/github/NaraaBold/DiverNaraa/blob/main/Desicion_tree.ipynb\" target=\"_parent\"><img src=\"https://colab.research.google.com/assets/colab-badge.svg\" alt=\"Open In Colab\"/></a>"
      ]
    },
    {
      "cell_type": "markdown",
      "source": [
        "Implementation of Decision tree in scratch \n",
        "\n",
        "[Problem 1] Function for finding impureness\n",
        "\n",
        "[Problem 2] Function for finding information gain\n",
        "\n",
        "[Problem 3] Learning\n",
        "\n",
        "[Question 4] Presumption"
      ],
      "metadata": {
        "id": "43RGaozm_LMy"
      }
    },
    {
      "cell_type": "code",
      "execution_count": 6,
      "metadata": {
        "id": "qCxh-9uF-8ug"
      },
      "outputs": [],
      "source": [
        "import numpy as np\n",
        "import collections\n",
        "\n",
        "class ScratchDecesionTreeClassifierDepth1():\n",
        "    \"\"\"\n",
        "    深さ1の決定木分類器のスクラッチ実装\n",
        "\n",
        "    Parameters\n",
        "    ----------\n",
        "    verbose : bool\n",
        "      学習過程を出力する場合はTrue\n",
        "    \"\"\"\n",
        "\n",
        "    def __init__(self, verbose=False):\n",
        "        # ハイパーパラメータを属性として記録\n",
        "        self.verbose = verbose\n",
        "\n",
        "    def fit(self, X, y):\n",
        "        \"\"\"\n",
        "        決定木分類器を学習する\n",
        "        Parameters\n",
        "        ----------\n",
        "        X : 次の形のndarray, shape (n_samples, n_features)\n",
        "            訓練データの特徴量\n",
        "        y : 次の形のndarray, shape (n_samples, )\n",
        "            訓練データの正解値\n",
        "        \"\"\"\n",
        "        self.gain = 0\n",
        "        for feature_index in range(X.shape[1]):\n",
        "          self.thresholds = np.unique(X[:,feature_index])\n",
        "          for threshold in self.thresholds:\n",
        "            _gain = self._calc_ig(X,feature_index,y,threshold)\n",
        "            if _gain > self.gain:\n",
        "                self.l_label = collections.Counter(y[X[:,feature_index] < threshold]).most_common()[0][0]\n",
        "                self.r_label = collections.Counter(y[X[:,feature_index] >= threshold]).most_common()[0][0]\n",
        "                self.feature = feature_index\n",
        "                self.threshold = threshold\n",
        "                self.gain = _gain\n",
        "                if self.verbose:\n",
        "                    print('feature',self.feature,'threshold',self.threshold,'gain',self.gain)\n",
        "\n",
        "    def predict(self, X):\n",
        "        \"\"\"\n",
        "        決定木分類器を使いラベルを推定する\n",
        "        \"\"\"\n",
        "        prediction = np.where(X[:,self.feature] < self.threshold,self.l_label,self.r_label)\n",
        "        return prediction\n",
        "\n",
        "    def _calc_gini(self, y):\n",
        "        labels,counts = np.unique(y,return_counts=True)\n",
        "        _gini = 0\n",
        "        for label in labels:\n",
        "          _gini += (counts[labels==label]/np.sum(counts))**2\n",
        "        gini = 1 - _gini\n",
        "        return gini\n",
        "\n",
        "    def _calc_ig(self,X,feature_index,y,threshold):\n",
        "        labels_l = y[X[:,feature_index] < threshold]\n",
        "        labels_r = y[X[:,feature_index] >= threshold]\n",
        "        gain_l = (len(labels_l)/(len(labels_l)+len(labels_r)))*self._calc_gini(labels_l)\n",
        "        gain_r = (len(labels_r)/(len(labels_l)+len(labels_r)))*self._calc_gini(labels_r)\n",
        "        gain = self._calc_gini(y) -gain_l -gain_r\n",
        "        return gain"
      ]
    },
    {
      "cell_type": "code",
      "source": [
        "#Data preperation\n",
        "import pandas as pd\n",
        "from sklearn.datasets import load_iris\n",
        "from sklearn.model_selection import train_test_split\n",
        "from sklearn.preprocessing import StandardScaler\n",
        "\n",
        "iris = load_iris()\n",
        "X = iris.data[:100,:]\n",
        "y = iris.target[:100]\n",
        "\n",
        "(X_train, X_test, y_train, y_test) = train_test_split(X, y, test_size=0.2)\n",
        "\n",
        "scaler = StandardScaler()\n",
        "scaler.fit(X_train)\n",
        "#transform both X_train and X_test\n",
        "X_train= scaler.transform(X_train)\n",
        "X_test= scaler.transform(X_test)"
      ],
      "metadata": {
        "id": "c-RaKb1DBelR"
      },
      "execution_count": 7,
      "outputs": []
    },
    {
      "cell_type": "code",
      "source": [
        "clf = ScratchDecesionTreeClassifierDepth1(verbose = True)\n",
        "clf.fit(X_train,y_train)"
      ],
      "metadata": {
        "colab": {
          "base_uri": "https://localhost:8080/"
        },
        "id": "Pn5sE9rUCAW9",
        "outputId": "094ce94f-dec5-4d26-a24c-3b6256828454"
      },
      "execution_count": 8,
      "outputs": [
        {
          "output_type": "stream",
          "name": "stdout",
          "text": [
            "feature 0 threshold -1.7515301390907223 gain [0.00731408]\n",
            "feature 0 threshold -1.4411814987202742 gain [0.02251218]\n",
            "feature 0 threshold -1.2860071785350489 gain [0.04684966]\n",
            "feature 0 threshold -1.130832858349825 gain [0.05540668]\n",
            "feature 0 threshold -0.9756585381645996 gain [0.09211504]\n",
            "feature 0 threshold -0.8204842179793755 gain [0.10231571]\n",
            "feature 0 threshold -0.6653098977941516 gain [0.15130192]\n",
            "feature 0 threshold -0.5101355776089262 gain [0.19945398]\n",
            "feature 0 threshold -0.3549612574237022 gain [0.226875]\n",
            "feature 0 threshold -0.19978693723847682 gain [0.24335127]\n",
            "feature 0 threshold -0.04461261705325283 gain [0.29815868]\n",
            "feature 2 threshold -0.8847917866032504 gain [0.40569814]\n",
            "feature 2 threshold -0.7477475602174614 gain [0.44940972]\n",
            "feature 2 threshold 0.005995684904378294 gain [0.4971875]\n"
          ]
        }
      ]
    },
    {
      "cell_type": "code",
      "source": [
        "prediction_scratch = clf.predict(X_test)\n",
        "print (prediction_scratch)"
      ],
      "metadata": {
        "colab": {
          "base_uri": "https://localhost:8080/"
        },
        "id": "FyFPw9OjCwMb",
        "outputId": "0abfe94f-88da-4463-efe1-7b9d6167fff7"
      },
      "execution_count": 9,
      "outputs": [
        {
          "output_type": "stream",
          "name": "stdout",
          "text": [
            "[1 0 1 1 0 0 0 0 1 1 0 0 0 0 0 0 0 1 0 1]\n"
          ]
        }
      ]
    },
    {
      "cell_type": "code",
      "source": [
        "# Decision tree in scratch vs Decision tree of scikit-learn\n",
        "\n",
        "from sklearn.metrics import accuracy_score\n",
        "from sklearn.metrics import precision_score\n",
        "from sklearn.metrics import recall_score\n",
        "from sklearn.metrics import f1_score\n",
        "\n",
        "#calculate evaluation metrics and add to evaluation_table\n",
        "def calculate_metrics_add_to_table(prediction_result, model_name, table_name, y_test):\n",
        "  d = {'accuracy':[accuracy_score(y_test, prediction_result)], 'precision':[precision_score(y_test, prediction_result, average='macro')], 'recall':[recall_score(y_test, prediction_result, average='macro')], 'F1 score': [f1_score(y_test, prediction_result, average='macro')]}\n",
        "  evaluation_result = pd.DataFrame(data=d, index=[model_name])\n",
        "  return table_name.append(evaluation_result)\n",
        "\n",
        "from sklearn import tree\n",
        "# define models and parameters\n",
        "model = tree.DecisionTreeClassifier(criterion='gini', max_depth=1).fit(X_train, y_train)\n",
        "prediction_DT = model.predict(X_test)\n",
        "\n",
        "evaluation_table = pd.DataFrame(columns = ('accuracy', 'precision', 'recall', 'F1 score'))\n",
        "evaluation_table = calculate_metrics_add_to_table(prediction_DT, 'DT scikit-learn', evaluation_table, y_test)\n",
        "evaluation_table = calculate_metrics_add_to_table(prediction_scratch, 'DT scratch', evaluation_table, y_test)\n",
        "\n",
        "print(evaluation_table)\n"
      ],
      "metadata": {
        "colab": {
          "base_uri": "https://localhost:8080/"
        },
        "id": "nQ-aAbyMEOW1",
        "outputId": "6e84c6be-f5c3-475e-9e6e-f2b7794f1ded"
      },
      "execution_count": 10,
      "outputs": [
        {
          "output_type": "stream",
          "name": "stdout",
          "text": [
            "                 accuracy  precision  recall  F1 score\n",
            "DT scikit-learn       1.0        1.0     1.0       1.0\n",
            "DT scratch            1.0        1.0     1.0       1.0\n"
          ]
        }
      ]
    },
    {
      "cell_type": "markdown",
      "source": [
        "[Problem 6] Visualization of decision area"
      ],
      "metadata": {
        "id": "F3JsxDUAGIYp"
      }
    },
    {
      "cell_type": "code",
      "source": [
        "X = iris.data[:100,:2]\n",
        "y = iris.target[:100]\n",
        "(X_train, X_test, y_train, y_test) = train_test_split(X, y, test_size=0.2)\n",
        "\n",
        "scaler = StandardScaler()\n",
        "scaler.fit(X_train)\n",
        "#transform both X_train and X_test\n",
        "X_train= scaler.transform(X_train)\n",
        "X_test= scaler.transform(X_test)\n",
        "\n",
        "clf = ScratchDecesionTreeClassifierDepth1(verbose = True)\n",
        "clf.fit(X_train,y_train)"
      ],
      "metadata": {
        "id": "ErTL7L_mG65S"
      },
      "execution_count": null,
      "outputs": []
    },
    {
      "cell_type": "code",
      "source": [
        "from matplotlib.colors import ListedColormap\n",
        "import matplotlib.pyplot as plt\n",
        "\n",
        "\n",
        "def decision_region(X,y,slr):\n",
        "    mesh_f0, mesh_f1  = np.meshgrid(\n",
        "        np.arange(np.min(X[:,0]), np.max(X[:,0]), 0.01), \n",
        "        np.arange(np.min(X[:,1]), np.max(X[:,1]), 0.01)\n",
        "    )\n",
        "    mesh = np.c_[np.ravel(mesh_f0),np.ravel(mesh_f1)]\n",
        "    y_pred = slr.predict(mesh).reshape(mesh_f0.shape)\n",
        "    plt.title('decision region')\n",
        "    plt.xlabel('feature0')\n",
        "    plt.ylabel('feature1')\n",
        "    plt.contourf(mesh_f0, mesh_f1, y_pred,cmap=ListedColormap(['pink', 'skyblue']))\n",
        "    plt.contour(mesh_f0, mesh_f1, y_pred,colors='red')\n",
        "    plt.scatter(X[y==0][:, 0], X[y==0][:, 1],label='0')\n",
        "    plt.scatter(X[y==1][:, 0], X[y==1][:, 1],label='1')\n",
        "    plt.legend()\n",
        "    plt.show()\n",
        "\n",
        "decision_region(X_test, y_test, clf)"
      ],
      "metadata": {
        "colab": {
          "base_uri": "https://localhost:8080/",
          "height": 295
        },
        "id": "izKwsUv0GKGm",
        "outputId": "8ce7d08f-cda4-4d4e-a62b-0c1bc0273a35"
      },
      "execution_count": 12,
      "outputs": [
        {
          "output_type": "display_data",
          "data": {
            "text/plain": [
              "<Figure size 432x288 with 1 Axes>"
            ],
            "image/png": "[encoded data removed]"
          },
          "metadata": {
            "needs_background": "light"
          }
        }
      ]
    },
    {
      "cell_type": "markdown",
      "source": [
        "[Problem 7] (Advance task) Creation of a decision tree classifier class with a depth of 2"
      ],
      "metadata": {
        "id": "BC2o4qUmH6za"
      }
    },
    {
      "cell_type": "code",
      "source": [
        "#Implementation of TreeNode \n",
        "import statistics\n",
        "\n",
        "class TreeNode():\n",
        "    def __init__(self, max_depth = None, verbose = False):\n",
        "      \"\"\"\n",
        "      インスタンス変数初期化\n",
        "      \"\"\"\n",
        "      self.max_depth = max_depth \n",
        "      self.verbose = verbose\n",
        "      self.feature = None\n",
        "      #print ('test')\n",
        "\n",
        "    def fit(self, X, y, depth):\n",
        "       #分岐計算\n",
        "       self.depth = depth\n",
        "\n",
        "       if self.depth >= self.max_depth:\n",
        "         self.label = statistics.mode(y)\n",
        "         return\n",
        "\n",
        "       self.gain = 0\n",
        "       for feature_index in range(X.shape[1]):\n",
        "          self.thresholds = np.unique(X[:,feature_index])\n",
        "          for threshold in self.thresholds:\n",
        "            _gain = self._calc_ig(X,feature_index,y,threshold)\n",
        "            if _gain > self.gain:\n",
        "                self.l_label = collections.Counter(y[X[:,feature_index] < threshold]).most_common()[0][0]\n",
        "                self.r_label = collections.Counter(y[X[:,feature_index] >= threshold]).most_common()[0][0]\n",
        "                self.feature = feature_index\n",
        "                self.threshold = threshold\n",
        "                self.gain = _gain\n",
        "                if self.verbose:\n",
        "                    print('feature',self.feature,'threshold',self.threshold,'gain',self.gain)\n",
        "\n",
        "       if self.depth < self.max_depth:  \n",
        "            self.left = TreeNode(self.max_depth, self.verbose)\n",
        "            self.right = TreeNode(self.max_depth, self.verbose)\n",
        "            X_l = X[X[:,self.feature] < self.threshold]\n",
        "            Y_l = y[X[:,self.feature] < self.threshold]\n",
        "            X_r = X[X[:,self.feature] >= self.threshold]           \n",
        "            Y_r = y[X[:,self.feature] >= self.threshold]\n",
        "            self.left.fit(X_l, Y_l, depth + 1)\n",
        "            self.right.fit(X_r, Y_r, depth + 1)\n",
        "\n",
        "    def predict(self, X):\n",
        "        \"\"\"\n",
        "        決定木分類器を使いラベルを推定する\n",
        "        \"\"\"\n",
        "\n",
        "        if self.depth < self.max_depth or self.feature is not None:\n",
        "          prediction = np.where(X[:,self.feature] < self.threshold,self.left.predict(X),self.right.predict(X))\n",
        "          return prediction \n",
        "        else: \n",
        "          return self.label\n",
        "\n",
        "    def _calc_gini(self, y):\n",
        "        labels,counts = np.unique(y,return_counts=True)\n",
        "        _gini = 0\n",
        "        for label in labels:\n",
        "          _gini += (counts[labels==label]/np.sum(counts))**2\n",
        "        gini = 1 - _gini\n",
        "        return gini\n",
        "\n",
        "    def _calc_ig(self,X,feature_index,y,threshold):\n",
        "        labels_l = y[X[:,feature_index] < threshold]\n",
        "        labels_r = y[X[:,feature_index] >= threshold]\n",
        "        gain_l = (len(labels_l)/(len(labels_l)+len(labels_r)))*self._calc_gini(labels_l)\n",
        "        gain_r = (len(labels_r)/(len(labels_l)+len(labels_r)))*self._calc_gini(labels_r)\n",
        "        gain = self._calc_gini(y) -gain_l -gain_r\n",
        "        return gain"
      ],
      "metadata": {
        "id": "buZffaJoH8Ej"
      },
      "execution_count": 56,
      "outputs": []
    },
    {
      "cell_type": "code",
      "source": [
        "# Implementation of DT with nodes\n",
        "class ScratchDecesionTreeClassifier():\n",
        "    \"\"\"\n",
        "    深さ1の決定木分類器のスクラッチ実装\n",
        "\n",
        "    Parameters\n",
        "    ----------\n",
        "    verbose : bool\n",
        "      学習過程を出力する場合はTrue\n",
        "    \"\"\"\n",
        "\n",
        "    def __init__(self, max_depth = 1, verbose=False):\n",
        "        # ハイパーパラメータを属性として記録\n",
        "        self.verbose = verbose\n",
        "        self.max_depth = max_depth\n",
        "\n",
        "    def fit(self, X, y):\n",
        "        \"\"\"\n",
        "        決定木分類器を学習する\n",
        "        Parameters\n",
        "        ----------\n",
        "        X : 次の形のndarray, shape (n_samples, n_features)\n",
        "            訓練データの特徴量\n",
        "        y : 次の形のndarray, shape (n_samples, )\n",
        "            訓練データの正解値\n",
        "        \"\"\"\n",
        "        self.depth = 0\n",
        "        self.root = TreeNode(self.max_depth, self.verbose)\n",
        "        self.root.fit(X, y, self.depth)\n",
        "\n",
        "    def predict(self, X):\n",
        "        \"\"\"\n",
        "        決定木分類器を使いラベルを推定する\n",
        "        \"\"\"\n",
        "        prediction = self.root.predict(X)\n",
        "        return prediction"
      ],
      "metadata": {
        "id": "es7NTP8LFZOy"
      },
      "execution_count": 54,
      "outputs": []
    },
    {
      "cell_type": "code",
      "source": [
        "#Data preperation\n",
        "\n",
        "X = iris.data[:100,:2]\n",
        "y = iris.target[:100]\n",
        "(X_train, X_test, y_train, y_test) = train_test_split(X, y, test_size=0.2)\n",
        "\n",
        "scaler = StandardScaler()\n",
        "scaler.fit(X_train)\n",
        "#transform both X_train and X_test\n",
        "X_train= scaler.transform(X_train)\n",
        "X_test= scaler.transform(X_test)\n",
        "\n",
        "clf = ScratchDecesionTreeClassifier(verbose = False, max_depth=2)\n",
        "clf.fit(X_train,y_train)\n",
        "\n",
        "prediction_scratch = clf.predict(X_test)\n",
        "print (prediction_scratch.tolist())"
      ],
      "metadata": {
        "colab": {
          "base_uri": "https://localhost:8080/"
        },
        "id": "UGUOeTedHTwy",
        "outputId": "2098b84c-ec61-40cb-ea1a-57a1c914cf4a"
      },
      "execution_count": 57,
      "outputs": [
        {
          "output_type": "stream",
          "name": "stdout",
          "text": [
            "[0, 0, 1, 0, 0, 1, 1, 1, 1, 0, 1, 0, 0, 1, 1, 0, 1, 0, 0, 1]\n"
          ]
        }
      ]
    },
    {
      "cell_type": "code",
      "source": [
        "#Plotting \n",
        "decision_region(X_test, y_test, clf)"
      ],
      "metadata": {
        "colab": {
          "base_uri": "https://localhost:8080/",
          "height": 295
        },
        "id": "zDaguvJrQqXq",
        "outputId": "230d3244-f9ab-4e5b-8a5c-80ee80e3e621"
      },
      "execution_count": 58,
      "outputs": [
        {
          "output_type": "display_data",
          "data": {
            "text/plain": [
              "<Figure size 432x288 with 1 Axes>"
            ],
            "image/png": "[encoded data removed]"
          },
          "metadata": {
            "needs_background": "light"
          }
        }
      ]
    },
    {
      "cell_type": "code",
      "source": [
        "class TreeNodeInf():\n",
        "    def __init__(self, max_depth = None, verbose = False):\n",
        "      \"\"\"\n",
        "      インスタンス変数初期化\n",
        "      \"\"\"\n",
        "      self.max_depth = max_depth \n",
        "      self.verbose = verbose\n",
        "      self.feature = None\n",
        "      #print ('test')\n",
        "\n",
        "    def fit(self, X, y, depth):\n",
        "       #分岐計算\n",
        "       self.depth = depth\n",
        "       \n",
        "       if len(np.unique(y))  == 1:\n",
        "            self.label = np.unique(y)[0]\n",
        "            return\n",
        "       \n",
        "       if self.depth == self.max_depth:\n",
        "         self.label = statistics.mode(y)\n",
        "         return\n",
        "        \n",
        "       self.gain = 0\n",
        "       self.left = TreeNode(self.max_depth, self.verbose)\n",
        "       for feature_index in range(X.shape[1]):\n",
        "          self.thresholds = np.unique(X[:,feature_index])\n",
        "          for threshold in self.thresholds:\n",
        "            _gain = self._calc_ig(X,feature_index,y,threshold)\n",
        "            if _gain > self.gain:\n",
        "                self.l_label = collections.Counter(y[X[:,feature_index] < threshold]).most_common()[0][0]\n",
        "                self.r_label = collections.Counter(y[X[:,feature_index] >= threshold]).most_common()[0][0]\n",
        "                self.feature = feature_index\n",
        "                self.threshold = threshold\n",
        "                self.gain = _gain\n",
        "                if self.verbose:\n",
        "                    print('feature',self.feature,'threshold',self.threshold,'gain',self.gain)\n",
        "        \n",
        "       self.left = TreeNodeInf(self.max_depth, self.verbose)\n",
        "       self.right = TreeNodeInf(self.max_depth, self.verbose)\n",
        "       X_l = X[X[:,self.feature] < self.threshold]\n",
        "       Y_l = y[X[:,self.feature] < self.threshold]\n",
        "       X_r = X[X[:,self.feature] >= self.threshold]\n",
        "       Y_r = y[X[:,self.feature] >= self.threshold]\n",
        "       self.left.fit(X_l, Y_l, depth + 1)\n",
        "       self.right.fit(X_r, Y_r, depth + 1)\n",
        "\n",
        "    def predict(self, X):\n",
        "        \"\"\"\n",
        "        決定木分類器を使いラベルを推定する\n",
        "        \"\"\"\n",
        "\n",
        "        if self.depth == self.max_depth or self.feature is None:\n",
        "          return self.label\n",
        "        else:\n",
        "          prediction = np.where(X[:,self.feature] < self.threshold,self.left.predict(X),self.right.predict(X))\n",
        "          return prediction\n",
        "\n",
        "    def _calc_gini(self, y):\n",
        "        labels,counts = np.unique(y,return_counts=True)\n",
        "        _gini = 0\n",
        "        for label in labels:\n",
        "          _gini += (counts[labels==label]/np.sum(counts))**2\n",
        "        gini = 1 - _gini\n",
        "        return gini\n",
        "\n",
        "    def _calc_ig(self,X,feature_index,y,threshold):\n",
        "        labels_l = y[X[:,feature_index] < threshold]\n",
        "        labels_r = y[X[:,feature_index] >= threshold]\n",
        "        gain_l = (len(labels_l)/(len(labels_l)+len(labels_r)))*self._calc_gini(labels_l)\n",
        "        gain_r = (len(labels_r)/(len(labels_l)+len(labels_r)))*self._calc_gini(labels_r)\n",
        "        gain = self._calc_gini(y) -gain_l -gain_r\n",
        "        return gain"
      ],
      "metadata": {
        "id": "qVBac7xSSEaY"
      },
      "execution_count": 66,
      "outputs": []
    },
    {
      "cell_type": "code",
      "source": [
        "class ScratchDecesionTreeClassifierInf():\n",
        "    \"\"\"\n",
        "    深さ1の決定木分類器のスクラッチ実装\n",
        "\n",
        "    Parameters\n",
        "    ----------\n",
        "    verbose : bool\n",
        "      学習過程を出力する場合はTrue\n",
        "    \"\"\"\n",
        "\n",
        "    def __init__(self, max_depth = 1, verbose=False):\n",
        "        # ハイパーパラメータを属性として記録\n",
        "        self.verbose = verbose\n",
        "        self.max_depth = max_depth\n",
        "\n",
        "    def fit(self, X, y):\n",
        "        \"\"\"\n",
        "        決定木分類器を学習する\n",
        "        Parameters\n",
        "        ----------\n",
        "        X : 次の形のndarray, shape (n_samples, n_features)\n",
        "            訓練データの特徴量\n",
        "        y : 次の形のndarray, shape (n_samples, )\n",
        "            訓練データの正解値\n",
        "        \"\"\"\n",
        "        self.depth = 0\n",
        "        self.root = TreeNodeInf(self.max_depth, self.verbose)\n",
        "        self.root.fit(X, y, self.depth)\n",
        "\n",
        "    def predict(self, X):\n",
        "        \"\"\"\n",
        "        決定木分類器を使いラベルを推定する\n",
        "        \"\"\"\n",
        "        prediction = self.root.predict(X)\n",
        "        return prediction"
      ],
      "metadata": {
        "id": "cERbXifGTQSw"
      },
      "execution_count": 64,
      "outputs": []
    },
    {
      "cell_type": "markdown",
      "source": [
        "[Problem 8] (Advance task) Creation of decision tree classifier class with unlimited depth"
      ],
      "metadata": {
        "id": "ev-cRS99Q25h"
      }
    },
    {
      "cell_type": "code",
      "source": [
        "clf = ScratchDecesionTreeClassifierInf(verbose = False, max_depth=None)\n",
        "clf.fit(X_train,y_train)\n",
        "\n",
        "prediction_scratch = clf.predict(X_test)\n",
        "print (prediction_scratch.tolist())\n",
        "\n",
        "#Plotting \n",
        "decision_region(X_train, y_train, clf)"
      ],
      "metadata": {
        "colab": {
          "base_uri": "https://localhost:8080/",
          "height": 313
        },
        "id": "Fc1yPb4XQ49-",
        "outputId": "825ff01d-9993-4681-c12a-9287b134047f"
      },
      "execution_count": 68,
      "outputs": [
        {
          "output_type": "stream",
          "name": "stdout",
          "text": [
            "[0, 0, 1, 0, 0, 1, 1, 1, 0, 0, 1, 0, 0, 1, 1, 0, 1, 0, 0, 1]\n"
          ]
        },
        {
          "output_type": "display_data",
          "data": {
            "text/plain": [
              "<Figure size 432x288 with 1 Axes>"
            ],
            "image/png": "[encoded data removed]"
          },
          "metadata": {
            "needs_background": "light"
          }
        }
      ]
    }
  ]
}