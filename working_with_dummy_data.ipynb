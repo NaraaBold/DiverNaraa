{
  "nbformat": 4,
  "nbformat_minor": 0,
  "metadata": {
    "colab": {
      "name": "working_with_dummy_data.ipynb",
      "provenance": [],
      "collapsed_sections": [],
      "authorship_tag": "ABX9TyOmqkDs3mcSiaxOVAz9ff9q",
      "include_colab_link": true
    },
    "kernelspec": {
      "name": "python3",
      "display_name": "Python 3"
    },
    "language_info": {
      "name": "python"
    }
  },
  "cells": [
    {
      "cell_type": "markdown",
      "metadata": {
        "id": "view-in-github",
        "colab_type": "text"
      },
      "source": [
        "<a href=\"https://colab.research.google.com/github/NaraaBold/DiverNaraa/blob/main/working_with_dummy_data.ipynb\" target=\"_parent\"><img src=\"https://colab.research.google.com/assets/colab-badge.svg\" alt=\"Open In Colab\"/></a>"
      ]
    },
    {
      "cell_type": "markdown",
      "source": [
        "[Problem 1]"
      ],
      "metadata": {
        "id": "u7QG3bfRdD1W"
      }
    },
    {
      "cell_type": "code",
      "execution_count": 2,
      "metadata": {
        "colab": {
          "base_uri": "https://localhost:8080/"
        },
        "id": "iAguqRcfc_B3",
        "outputId": "850a2e11-d6c4-4cdb-d94e-8d0a7ddb9410"
      },
      "outputs": [
        {
          "output_type": "stream",
          "name": "stdout",
          "text": [
            "(500, 2)\n"
          ]
        }
      ],
      "source": [
        "import numpy as np\n",
        "np.random.seed(0)\n",
        "mean = (-3,0)\n",
        "cov = [[1,0.8],[0.8,1]]\n",
        "data = np.random.multivariate_normal(mean, cov, 500)\n",
        "print(data.shape)"
      ]
    },
    {
      "cell_type": "markdown",
      "source": [
        "[Problem 2]"
      ],
      "metadata": {
        "id": "n_BJ-4lggBC4"
      }
    },
    {
      "cell_type": "code",
      "source": [
        "import matplotlib.pyplot as plt\n",
        "plt.scatter(data[:,0], data[:,1])\n",
        "plt.xlabel(\"x1\")\n",
        "plt.ylabel(\"x2\")\n",
        "plt.title(\"Scatter\")\n",
        "plt.show()"
      ],
      "metadata": {
        "colab": {
          "base_uri": "https://localhost:8080/",
          "height": 295
        },
        "id": "9vhWELm0ecKn",
        "outputId": "1d27f862-4cb7-4647-ac22-97ed13f978e1"
      },
      "execution_count": 3,
      "outputs": [
        {
          "output_type": "display_data",
          "data": {
            "text/plain": [
              "<Figure size 432x288 with 1 Axes>"
            ],
            "image/png": "[encoded data removed]"
          },
          "metadata": {
            "needs_background": "light"
          }
        }
      ]
    },
    {
      "cell_type": "markdown",
      "source": [
        "[Problem 3]"
      ],
      "metadata": {
        "id": "EnnS1gOsgPYG"
      }
    },
    {
      "cell_type": "code",
      "source": [
        "plt.hist(data[:,0], 50)\n",
        "print (plt.xlim())\n",
        "plt.xlabel(\"x1\")\n",
        "plt.ylabel(\"Frequency\")\n",
        "plt.title(\"Histogram of x1\")\n",
        "plt.show"
      ],
      "metadata": {
        "colab": {
          "base_uri": "https://localhost:8080/",
          "height": 330
        },
        "id": "EMKWhSSSgSFf",
        "outputId": "d30c567c-da2c-4fd6-fa5c-1ac0e67eebd8"
      },
      "execution_count": 4,
      "outputs": [
        {
          "output_type": "stream",
          "name": "stdout",
          "text": [
            "(-5.82825465579554, 0.08390154637774011)\n"
          ]
        },
        {
          "output_type": "execute_result",
          "data": {
            "text/plain": [
              "<function matplotlib.pyplot.show>"
            ]
          },
          "metadata": {},
          "execution_count": 4
        },
        {
          "output_type": "display_data",
          "data": {
            "text/plain": [
              "<Figure size 432x288 with 1 Axes>"
            ],
            "image/png": "[encoded data removed]"
          },
          "metadata": {
            "needs_background": "light"
          }
        }
      ]
    },
    {
      "cell_type": "code",
      "source": [
        "plt.hist(data[:,1], 50)\n",
        "print (plt.xlim())\n",
        "plt.xlabel(\"x2\")\n",
        "plt.ylabel(\"Frequency\")\n",
        "plt.title(\"Histogram of x2\")\n",
        "plt.show"
      ],
      "metadata": {
        "colab": {
          "base_uri": "https://localhost:8080/",
          "height": 330
        },
        "id": "A10AdF5zjMKG",
        "outputId": "569b89d6-1a28-4d3c-c69e-8d7ccdb7c743"
      },
      "execution_count": 5,
      "outputs": [
        {
          "output_type": "stream",
          "name": "stdout",
          "text": [
            "(-3.3687619877247883, 3.004123992994932)\n"
          ]
        },
        {
          "output_type": "execute_result",
          "data": {
            "text/plain": [
              "<function matplotlib.pyplot.show>"
            ]
          },
          "metadata": {},
          "execution_count": 5
        },
        {
          "output_type": "display_data",
          "data": {
            "text/plain": [
              "<Figure size 432x288 with 1 Axes>"
            ],
            "image/png": "[encoded data removed]"
          },
          "metadata": {
            "needs_background": "light"
          }
        }
      ]
    },
    {
      "cell_type": "markdown",
      "source": [
        "[Problem 4]"
      ],
      "metadata": {
        "id": "mYD2AHXxjQd_"
      }
    },
    {
      "cell_type": "code",
      "source": [
        "mean2 = (0,-3)\n",
        "cov2 = [[1,0.8],[0.8,1]]\n",
        "data2 = np.random.multivariate_normal(mean2, cov2, 500)\n",
        "\n",
        "import matplotlib.pyplot as plt\n",
        "plt.scatter(data[:,0], data[:,1], label = '0')\n",
        "plt.scatter(data2[:,0], data2[:,1], label = '1')\n",
        "plt.xlabel(\"x1\")\n",
        "plt.ylabel(\"x2\")\n",
        "plt.legend(loc='upper right')\n",
        "plt.title(\"Scatter\")\n",
        "plt.show()"
      ],
      "metadata": {
        "colab": {
          "base_uri": "https://localhost:8080/",
          "height": 295
        },
        "id": "fsfjmoC5jTMe",
        "outputId": "16da8f96-ff7f-468c-ff9d-1c30d79d9454"
      },
      "execution_count": 6,
      "outputs": [
        {
          "output_type": "display_data",
          "data": {
            "text/plain": [
              "<Figure size 432x288 with 1 Axes>"
            ],
            "image/png": "[encoded data removed]"
          },
          "metadata": {
            "needs_background": "light"
          }
        }
      ]
    },
    {
      "cell_type": "markdown",
      "source": [
        "[Problem 5, 6]"
      ],
      "metadata": {
        "id": "KAWMm6CohQ0b"
      }
    },
    {
      "cell_type": "code",
      "source": [
        "concatenated = np.concatenate((data, data2), axis=0)\n",
        "print (concatenated.shape)\n",
        "concatenated_with_label = np.concatenate((np.concatenate((data, np.full((500,1),0)), axis=1), np.concatenate((data, np.full((500,1),1)), axis=1)), axis=0)\n",
        "print (concatenated_with_label.shape)\n",
        "print (\"Concatenated data: \\n{}\".format(concatenated_with_label))"
      ],
      "metadata": {
        "colab": {
          "base_uri": "https://localhost:8080/"
        },
        "id": "eoxCa6HUhSR6",
        "outputId": "5f56c37e-7dad-46b7-84a4-30b825ef9718"
      },
      "execution_count": 30,
      "outputs": [
        {
          "output_type": "stream",
          "name": "stdout",
          "text": [
            "(1000, 2)\n",
            "(1000, 3)\n",
            "Concatenated data: \n",
            "[[-4.80006782 -1.54698618  0.        ]\n",
            " [-4.63714503 -0.21987973  0.        ]\n",
            " [-4.46267867 -2.08076347  0.        ]\n",
            " ...\n",
            " [-3.40484501 -0.14372258  1.        ]\n",
            " [-2.8415685   0.21800394  1.        ]\n",
            " [-1.79803505  0.97547372  1.        ]]\n"
          ]
        }
      ]
    }
  ]
}