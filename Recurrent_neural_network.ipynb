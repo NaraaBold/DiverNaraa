{
  "nbformat": 4,
  "nbformat_minor": 0,
  "metadata": {
    "colab": {
      "name": "Recurrent_neural_network.ipynb",
      "provenance": [],
      "collapsed_sections": [],
      "authorship_tag": "ABX9TyNh/wVWIN2PkjsAbgzwvweK",
      "include_colab_link": true
    },
    "kernelspec": {
      "name": "python3",
      "display_name": "Python 3"
    },
    "language_info": {
      "name": "python"
    }
  },
  "cells": [
    {
      "cell_type": "markdown",
      "metadata": {
        "id": "view-in-github",
        "colab_type": "text"
      },
      "source": [
        "<a href=\"https://colab.research.google.com/github/NaraaBold/DiverNaraa/blob/main/Recurrent_neural_network.ipynb\" target=\"_parent\"><img src=\"https://colab.research.google.com/assets/colab-badge.svg\" alt=\"Open In Colab\"/></a>"
      ]
    },
    {
      "cell_type": "markdown",
      "source": [
        "Implementation of recurrent neural network (RNN) from scratch"
      ],
      "metadata": {
        "id": "QdklTgAJH1Ie"
      }
    },
    {
      "cell_type": "markdown",
      "source": [
        "[Problem 1] Forward propagation implementation of SimpleRNN"
      ],
      "metadata": {
        "id": "J-LpJloPIAIQ"
      }
    },
    {
      "cell_type": "code",
      "execution_count": 78,
      "metadata": {
        "id": "ZqLmhFyiHrhC"
      },
      "outputs": [],
      "source": [
        "import numpy as np\n",
        "x = np.array([[[1, 2], [2, 3], [3, 4]]])/100 # (batch_size, n_sequences, n_features)\n",
        "w_x = np.array([[1, 3, 5, 7], [3, 5, 7, 8]])/100 # (n_features, n_nodes)\n",
        "w_h = np.array([[1, 3, 5, 7], [2, 4, 6, 8], [3, 5, 7, 8], [4, 6, 8, 10]])/100 # (n_nodes, n_nodes)\n",
        "batch_size = x.shape[0] # 1\n",
        "n_sequences = x.shape[1] # 3\n",
        "n_features = x.shape[2] # 2\n",
        "n_nodes = w_x.shape[1] # 4\n",
        "h = np.zeros((batch_size, n_nodes)) # (batch_size, n_nodes)\n",
        "b = np.array([1, 1, 1, 1]) # (n_nodes,)"
      ]
    },
    {
      "cell_type": "code",
      "source": [
        "def forward(x,h):\n",
        "    for n in range(n_sequences):\n",
        "        h = np.tanh(x[:, n, :] @ w_x + h @ w_h + b)\n",
        "    return h"
      ],
      "metadata": {
        "id": "1rpfLKHbIam_"
      },
      "execution_count": 79,
      "outputs": []
    },
    {
      "cell_type": "code",
      "source": [
        "forward(x,h)"
      ],
      "metadata": {
        "colab": {
          "base_uri": "https://localhost:8080/"
        },
        "id": "Lgc8niy7Ic-G",
        "outputId": "0fd37541-1aa6-4766-dcd7-31b4a82f9520"
      },
      "execution_count": 80,
      "outputs": [
        {
          "output_type": "execute_result",
          "data": {
            "text/plain": [
              "array([[0.79494228, 0.81839002, 0.83939649, 0.85584174]])"
            ]
          },
          "metadata": {},
          "execution_count": 80
        }
      ]
    },
    {
      "cell_type": "markdown",
      "source": [
        "[Problem 1] Forward propagation implementation of SimpleRNN"
      ],
      "metadata": {
        "id": "TbZZP0BSLq6A"
      }
    },
    {
      "cell_type": "code",
      "source": [
        "#Defining SimpleRNN class\n",
        "class SimpleRNN:\n",
        "    def __init__(self, batch_size, n_features, n_sequences, n_nodes):\n",
        "        self.batch_size = batch_size\n",
        "        self.n_features = n_features\n",
        "        self.n_nodes = n_nodes\n",
        "        self.n_sequences = n_sequences\n",
        "        self.w_x = None\n",
        "        self.w_h = None\n",
        "        self.b = None\n",
        "    def forward(self, x, h):\n",
        "        for n in range(self.n_sequences):\n",
        "          a_t = x[:, n, :] @ self.w_x + h @ self.w_h + self.b\n",
        "          #print (a_t.shape)\n",
        "          h = np.tanh(a_t)\n",
        "        return h\n"
      ],
      "metadata": {
        "id": "0kATzSBNInn2"
      },
      "execution_count": 8,
      "outputs": []
    },
    {
      "cell_type": "markdown",
      "source": [
        "[Problem 2] Forward propagation experiment with small sequences"
      ],
      "metadata": {
        "id": "fMGe4PzbLsb3"
      }
    },
    {
      "cell_type": "code",
      "source": [
        "rnn = SimpleRNN(batch_size, n_features, n_sequences, n_nodes)\n",
        "rnn.w_x = w_x\n",
        "rnn.w_h = w_h\n",
        "rnn.b = b\n",
        "result=rnn.forward(x,h)\n",
        "print (result)"
      ],
      "metadata": {
        "colab": {
          "base_uri": "https://localhost:8080/"
        },
        "id": "MdnGN9JSKwdR",
        "outputId": "0e638b57-f72e-4f6e-8e5d-89bfc6d811c4"
      },
      "execution_count": 9,
      "outputs": [
        {
          "output_type": "stream",
          "name": "stdout",
          "text": [
            "[[0.79494228 0.81839002 0.83939649 0.85584174]]\n"
          ]
        }
      ]
    },
    {
      "cell_type": "markdown",
      "source": [
        "[Problem 3] (Advanced assignment) Implementation of back propagation"
      ],
      "metadata": {
        "id": "GJ9bQO7-Lk75"
      }
    },
    {
      "cell_type": "code",
      "source": [
        "#Defining SimpleRNN class\n",
        "class SimpleRNN2:\n",
        "    def __init__(self, batch_size, n_features, n_sequences, n_nodes, lr = 0.01):\n",
        "        self.batch_size = batch_size\n",
        "        self.n_features = n_features\n",
        "        self.n_nodes = n_nodes\n",
        "        self.n_sequences = n_sequences\n",
        "        self.w_x = None\n",
        "        self.w_h = None\n",
        "        self.b = None\n",
        "        self.a_t = np.zeros((n_sequences, batch_size, n_nodes)) # (n_sequences, batch_size, n_nodes)\n",
        "        self.h_t = np.zeros((n_sequences, batch_size, n_nodes)) # (n_sequences, batch_size, n_nodes)\n",
        "        self.dZ = np.zeros((n_sequences, batch_size, n_features))\n",
        "        self.lr = lr\n",
        "        \n",
        "    def forward(self, x, h):\n",
        "        self.X = x\n",
        "        for n in range(self.n_sequences):\n",
        "          a = x[:, n, :] @ self.w_x + h @ self.w_h + self.b\n",
        "          self.a_t[n, :, : ] = a\n",
        "          h = np.tanh(a)\n",
        "          self.h_t[n,: , :] = h\n",
        "        return h\n",
        "    \n",
        "    def backward(self, dA):\n",
        "        for n in range(self.n_sequences-1, -1, -1):\n",
        "          dA = dA * (1 - np.tanh(self.a_t[n, :, :])**2)\n",
        "          dW_X = self.X[:, n, :].T @ dA\n",
        "          dW_H = self.h_t[n,:,:].T @ dA\n",
        "          Z = dA @ self.w_h.T\n",
        "          self.dZ[n,:,:] = Z @ self.w_x.T\n",
        "          dB = np.sum(dA, axis=0)\n",
        "          #print (dZ.shape)\n",
        "          #print (dW_X.shape)\n",
        "          #print (self.w_x.shape)\n",
        "          self.w_x -= self.lr * dW_X\n",
        "          self.w_h -= self.lr * dW_H\n",
        "          #print (dB)\n",
        "          self.b -= self.lr * dB\n",
        "        return self.dZ\n",
        "\n",
        "    def tanh(self,X):\n",
        "      result = (np.exp(X)-np.exp(-X))/(np.exp(X)+np.exp(-X))\n",
        "      # or\n",
        "      #  result = np.tanh(X)\n",
        "      return result"
      ],
      "metadata": {
        "id": "qoDGqknILwxf"
      },
      "execution_count": 91,
      "outputs": []
    },
    {
      "cell_type": "code",
      "source": [
        "rnn2 = SimpleRNN2(batch_size, n_features, n_sequences, n_nodes)\n",
        "rnn2.w_x = w_x\n",
        "rnn2.w_h = w_h\n",
        "rnn2.b = b.astype(float)\n",
        "result = rnn2.forward(x,h)\n",
        "print (result)\n",
        "rnn2.backward(result)\n",
        "print (rnn2.dZ)"
      ],
      "metadata": {
        "colab": {
          "base_uri": "https://localhost:8080/"
        },
        "id": "5GM2MY8UN-LN",
        "outputId": "044dd5bb-83f0-4200-8f25-8b7eed2a4584"
      },
      "execution_count": 92,
      "outputs": [
        {
          "output_type": "stream",
          "name": "stdout",
          "text": [
            "[[0.79036637 0.81462841 0.83631377 0.85324984]]\n",
            "[[[0.0011638  0.00158902]]\n",
            "\n",
            " [[0.00282138 0.00385511]]\n",
            "\n",
            " [[0.00930855 0.01277143]]]\n"
          ]
        }
      ]
    }
  ]
}