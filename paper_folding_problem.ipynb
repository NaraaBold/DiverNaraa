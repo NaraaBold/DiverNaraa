{
  "nbformat": 4,
  "nbformat_minor": 0,
  "metadata": {
    "colab": {
      "name": "paper_folding_problem.ipynb",
      "provenance": [],
      "collapsed_sections": [],
      "authorship_tag": "ABX9TyPScLpYKeN6BojCYkFj4FXr",
      "include_colab_link": true
    },
    "kernelspec": {
      "name": "python3",
      "display_name": "Python 3"
    },
    "language_info": {
      "name": "python"
    }
  },
  "cells": [
    {
      "cell_type": "markdown",
      "metadata": {
        "id": "view-in-github",
        "colab_type": "text"
      },
      "source": [
        "<a href=\"https://colab.research.google.com/github/NaraaBold/DiverNaraa/blob/main/paper_folding_problem.ipynb\" target=\"_parent\"><img src=\"https://colab.research.google.com/assets/colab-badge.svg\" alt=\"Open In Colab\"/></a>"
      ]
    },
    {
      "cell_type": "markdown",
      "source": [
        "[Problem 1]"
      ],
      "metadata": {
        "id": "D_I4kid89yHQ"
      }
    },
    {
      "cell_type": "code",
      "execution_count": null,
      "metadata": {
        "colab": {
          "base_uri": "https://localhost:8080/"
        },
        "id": "o27PBM8K9Kpg",
        "outputId": "c306d0bb-0010-47d6-835a-78e197d4954d"
      },
      "outputs": [
        {
          "output_type": "stream",
          "name": "stdout",
          "text": [
            "厚さ： 703687441.77664メートル\n"
          ]
        }
      ],
      "source": [
        "# 紙を1回折った時の厚さを計算するコード\n",
        "\n",
        "THICKNESS = 0.00008\n",
        "\n",
        "folded_thickness = THICKNESS * (2**43)\n",
        "\n",
        "print(\"厚さ： {}メートル\".format(folded_thickness))"
      ]
    },
    {
      "cell_type": "markdown",
      "source": [
        ""
      ],
      "metadata": {
        "id": "JfSHVq9VN32F"
      }
    },
    {
      "cell_type": "markdown",
      "source": [
        "[Problem 2]"
      ],
      "metadata": {
        "id": "uoaiT1t7-9En"
      }
    },
    {
      "cell_type": "code",
      "source": [
        "# メートルをキロメートルに変換して小数点以下2桁で表示する\n",
        "print(\"厚さ： {:.2f} tenキロメートル\".format(folded_thickness / 10000))"
      ],
      "metadata": {
        "colab": {
          "base_uri": "https://localhost:8080/"
        },
        "id": "k_a6-r9v_Acm",
        "outputId": "767b3680-5d70-470e-8fd7-cfa8f3c36e49"
      },
      "execution_count": null,
      "outputs": [
        {
          "output_type": "stream",
          "name": "stdout",
          "text": [
            "厚さ： 70368.74 tenキロメートル\n"
          ]
        }
      ]
    },
    {
      "cell_type": "markdown",
      "source": [
        "[Problem 3]"
      ],
      "metadata": {
        "id": "nkBTP4III1d4"
      }
    },
    {
      "cell_type": "code",
      "source": [
        "# for statement\n",
        "folded_thickness = THICKNESS\n",
        "for x in range(43):\n",
        "  folded_thickness = folded_thickness * 2\n",
        "\n",
        "print(\"厚さ： {}メートル\".format(folded_thickness))"
      ],
      "metadata": {
        "colab": {
          "base_uri": "https://localhost:8080/"
        },
        "id": "yN2kD4bdK1nT",
        "outputId": "0c14fc8d-7b09-4d41-bfd2-4d56b14f6650"
      },
      "execution_count": null,
      "outputs": [
        {
          "output_type": "stream",
          "name": "stdout",
          "text": [
            "厚さ： 703687441.77664メートル\n"
          ]
        }
      ]
    },
    {
      "cell_type": "markdown",
      "source": [
        "[Problem 4]"
      ],
      "metadata": {
        "id": "Ko6Ms7qGMRTm"
      }
    },
    {
      "cell_type": "code",
      "source": [
        "import time\n",
        "\n",
        "start = time.time()\n",
        "#####\n",
        "# ここに比較したいコードを貼り付ける\n",
        "folded_thickness = THICKNESS * (2**43)\n",
        "#####\n",
        "elapsed_time = time.time() - start\n",
        "print(\"time for exponential: {}[s]\".format(elapsed_time))\n",
        "\n",
        "start = time.time()\n",
        "#####\n",
        "# ここに比較したいコードを貼り付ける\n",
        "folded_thickness = THICKNESS\n",
        "for x in range(43):\n",
        "  folded_thickness = folded_thickness * 2\n",
        "#####\n",
        "elapsed_time = time.time() - start\n",
        "print(\"time for for statement: {}[s]\".format(elapsed_time))"
      ],
      "metadata": {
        "colab": {
          "base_uri": "https://localhost:8080/"
        },
        "id": "MsKoUqm-MS5k",
        "outputId": "259618d8-9911-4353-c428-2606dbbe4d62"
      },
      "execution_count": null,
      "outputs": [
        {
          "output_type": "stream",
          "name": "stdout",
          "text": [
            "time for exponential: 5.91278076171875e-05[s]\n",
            "time for for statement: 9.965896606445312e-05[s]\n"
          ]
        }
      ]
    },
    {
      "cell_type": "code",
      "source": [
        "%%timeit\n",
        "#####\n",
        "# ここに比較したいコードを貼り付ける\n",
        "folded_thickness = THICKNESS * (2**43)\n",
        "#####\n",
        "\n"
      ],
      "metadata": {
        "colab": {
          "base_uri": "https://localhost:8080/"
        },
        "id": "sCgAK6XTM4sN",
        "outputId": "78a15c9e-3cd7-453a-d996-b971acc3618b"
      },
      "execution_count": null,
      "outputs": [
        {
          "output_type": "stream",
          "name": "stdout",
          "text": [
            "The slowest run took 22.71 times longer than the fastest. This could mean that an intermediate result is being cached.\n",
            "10000000 loops, best of 5: 81.4 ns per loop\n"
          ]
        }
      ]
    },
    {
      "cell_type": "code",
      "source": [
        "%%timeit\n",
        "#####\n",
        "# ここに比較したいコードを貼り付ける\n",
        "folded_thickness = THICKNESS\n",
        "for x in range(43):\n",
        "  folded_thickness = folded_thickness * 2\n",
        "#####\n"
      ],
      "metadata": {
        "colab": {
          "base_uri": "https://localhost:8080/"
        },
        "id": "z4LREEjpNdne",
        "outputId": "09bd931c-8bc2-4773-b5bc-a163ae5f871b"
      },
      "execution_count": null,
      "outputs": [
        {
          "output_type": "stream",
          "name": "stdout",
          "text": [
            "100000 loops, best of 5: 2.49 µs per loop\n"
          ]
        }
      ]
    },
    {
      "cell_type": "markdown",
      "source": [
        "[Problem 5]"
      ],
      "metadata": {
        "id": "m9dhyCjTN7-9"
      }
    },
    {
      "cell_type": "code",
      "source": [
        "folded_thickness = THICKNESS\n",
        "listF = [folded_thickness]\n",
        "for x in range(43):\n",
        "  folded_thickness = folded_thickness * 2\n",
        "  listF.append(folded_thickness)\n",
        "\n",
        "print (len(listF))"
      ],
      "metadata": {
        "colab": {
          "base_uri": "https://localhost:8080/"
        },
        "id": "FvrttiqpNuQ9",
        "outputId": "e6666d4e-b259-40de-d65c-771890ce6207"
      },
      "execution_count": null,
      "outputs": [
        {
          "output_type": "stream",
          "name": "stdout",
          "text": [
            "44\n"
          ]
        }
      ]
    },
    {
      "cell_type": "markdown",
      "source": [
        "[Problem 6, 7]"
      ],
      "metadata": {
        "id": "0kKLdppBO9EF"
      }
    },
    {
      "cell_type": "code",
      "source": [
        "import matplotlib.pyplot as plt\n",
        "%matplotlib inline\n",
        "\n",
        "# グラフを表示する。タイトルと軸ラベル名付き。\n",
        "plt.title(\"thickness of folded paper\")\n",
        "plt.xlabel(\"number of folds\")\n",
        "plt.ylabel(\"thickness [m]\")\n",
        "plt.plot(listF, 'go-')  # 「リスト名」のところにリストの変数名を入れる\n",
        "plt.grid()\n",
        "plt.show()"
      ],
      "metadata": {
        "colab": {
          "base_uri": "https://localhost:8080/",
          "height": 295
        },
        "id": "KeBiHmOaO_BE",
        "outputId": "c5f9ba34-9357-43e5-8799-a03eab125dd1"
      },
      "execution_count": null,
      "outputs": [
        {
          "output_type": "display_data",
          "data": {
            "text/plain": [
              "<Figure size 432x288 with 1 Axes>"
            ],
            "image/png": "[encoded data removed]"
          },
          "metadata": {
            "needs_background": "light"
          }
        }
      ]
    },
    {
      "cell_type": "code",
      "source": [
        ""
      ],
      "metadata": {
        "id": "dRfAeBdkPMU_"
      },
      "execution_count": null,
      "outputs": []
    }
  ]
}