{
  "nbformat": 4,
  "nbformat_minor": 0,
  "metadata": {
    "colab": {
      "name": "Logistic_regression.ipynb",
      "provenance": [],
      "collapsed_sections": [],
      "authorship_tag": "ABX9TyNtrl2nekfx1HJCl+1mTO9b",
      "include_colab_link": true
    },
    "kernelspec": {
      "name": "python3",
      "display_name": "Python 3"
    },
    "language_info": {
      "name": "python"
    }
  },
  "cells": [
    {
      "cell_type": "markdown",
      "metadata": {
        "id": "view-in-github",
        "colab_type": "text"
      },
      "source": [
        "<a href=\"https://colab.research.google.com/github/NaraaBold/DiverNaraa/blob/main/Logistic_regression.ipynb\" target=\"_parent\"><img src=\"https://colab.research.google.com/assets/colab-badge.svg\" alt=\"Open In Colab\"/></a>"
      ]
    },
    {
      "cell_type": "markdown",
      "source": [
        "Implementation of Logistic Regression in scratch \n",
        "\n",
        "\n",
        "[Problem 1] Hypothetical function\n",
        "\n",
        "[Question 2] The most rapid descent method\n",
        "\n",
        "[Question 3] Presumption\n",
        "\n",
        "[Problem 4] Objective function"
      ],
      "metadata": {
        "id": "2lS-UysO-mRS"
      }
    },
    {
      "cell_type": "code",
      "execution_count": 13,
      "metadata": {
        "id": "9oA9zKAzsugd"
      },
      "outputs": [],
      "source": [
        "import numpy as np\n",
        "\n",
        "class ScratchLogisticRegression():\n",
        "    \"\"\"\n",
        "    ロジスティック回帰のスクラッチ実装\n",
        "\n",
        "    Parameters\n",
        "    ----------\n",
        "    num_iter : int\n",
        "      イテレーション数\n",
        "    lr : float\n",
        "      学習率\n",
        "    no_bias : bool\n",
        "      バイアス項を入れない場合はTrue\n",
        "    verbose : bool\n",
        "      学習過程を出力する場合はTrue\n",
        "\n",
        "    Attributes\n",
        "    ----------\n",
        "    self.coef_ : 次の形のndarray, shape (n_features,)\n",
        "      パラメータ\n",
        "    self.loss : 次の形のndarray, shape (self.iter,)\n",
        "      訓練データに対する損失の記録\n",
        "    self.val_loss : 次の形のndarray, shape (self.iter,)\n",
        "      検証データに対する損失の記録\n",
        "\n",
        "    \"\"\"\n",
        "\n",
        "    def __init__(self, num_iter, lr, bias, verbose, lam):\n",
        "        # ハイパーパラメータを属性として記録\n",
        "        self.num_iter = num_iter\n",
        "        self.lr = lr\n",
        "        self.bias = bias\n",
        "        self.verbose = verbose\n",
        "        # 損失を記録する配列を用意\n",
        "        self.loss = np.zeros(self.num_iter)\n",
        "        self.val_loss = np.zeros(self.num_iter)\n",
        "        self.lam = lam\n",
        "\n",
        "    def fit(self, X, y, X_val=None, y_val=None):\n",
        "        \"\"\"\n",
        "        ロジスティック回帰を学習する。検証データが入力された場合はそれに対する損失と精度もイテレーションごとに計算する。\n",
        "\n",
        "        Parameters\n",
        "        ----------\n",
        "        X : 次の形のndarray, shape (n_samples, n_features)\n",
        "            訓練データの特徴量\n",
        "        y : 次の形のndarray, shape (n_samples, )\n",
        "            訓練データの正解値\n",
        "        X_val : 次の形のndarray, shape (n_samples, n_features)\n",
        "            検証データの特徴量\n",
        "        y_val : 次の形のndarray, shape (n_samples, )\n",
        "            検証データの正解値\n",
        "        \"\"\"\n",
        "        if self.bias == True:\n",
        "          bias = np.ones((X.shape[0], 1))\n",
        "          X = np.hstack((bias, X))\n",
        "          if X_val is not None:\n",
        "            bias = np.ones((X_val.shape[0], 1))\n",
        "            X_val = np.hstack((bias, X_val))\n",
        "        self.theta = np.zeros(X.shape[1])\n",
        "        self.theta = self.theta.reshape(X.shape[1], 1)\n",
        "        for i in range(self.num_iter):\n",
        "          pred = self._logistic_hypothesis(X)\n",
        "          self._gradient_descent(X, y)\n",
        "          loss = self._loss_func(pred, y)\n",
        "          self.loss[i] = loss\n",
        "          if X_val is not None:\n",
        "            pred_val = self._logistic_hypothesis(X_val)\n",
        "            loss_val = self._loss_func(pred_val, y_val)\n",
        "            self.val_loss[i] = loss_val\n",
        "          if self.verbose == True:\n",
        "            print('{}回目の学習の損失は{}'.format(i,loss))\n",
        "\n",
        "    def predict(self, X):\n",
        "        \"\"\"\n",
        "        ロジスティック回帰を使いラベルを推定する。\n",
        "\n",
        "        Parameters\n",
        "        ----------\n",
        "        X : 次の形のndarray, shape (n_samples, n_features)\n",
        "            サンプル\n",
        "\n",
        "        Returns\n",
        "        -------\n",
        "            次の形のndarray, shape (n_samples, 1)\n",
        "            ロジスティック回帰による推定結果\n",
        "        \"\"\"\n",
        "        if self.bias == True:\n",
        "          a = np.ones(X.shape[0]).reshape(X.shape[0], 1)\n",
        "          X = np.hstack([a, X])\n",
        "        return  np.where(self._logistic_hypothesis(X) >= 0.5,1,0)\n",
        "\n",
        "    def predict_proba(self, X):\n",
        "        \"\"\"\n",
        "        ロジスティック回帰を使い確率を推定する。\n",
        "\n",
        "        Parameters\n",
        "        ----------\n",
        "        X : 次の形のndarray, shape (n_samples, n_features)\n",
        "            サンプル\n",
        "\n",
        "        Returns\n",
        "        -------\n",
        "            次の形のndarray, shape (n_samples, 1)\n",
        "            ロジスティック回帰による推定結果\n",
        "        \"\"\"\n",
        "        if self.bias == True:\n",
        "          a = np.ones(X.shape[0]).reshape(X.shape[0], 1)\n",
        "          X = np.hstack([a, X])\n",
        "        pred = self._logistic_hypothesis(X)\n",
        "        return pred\n",
        "\n",
        "    def _gradient_descent(self, X, y):\n",
        "        \"\"\"Θ更新（最急降下法）\"\"\"\n",
        "        m = X.shape[0]\n",
        "        n = X.shape[1]\n",
        "        pred = self._logistic_hypothesis(X)\n",
        "        for j in range(n):\n",
        "          gradient = 0\n",
        "          for i in range(m):\n",
        "            gradient += (pred[i] - y[i]) * X[i, j]\n",
        "          self.theta[j] = self.theta[j] - self.lr * ((gradient+self.lam*self.theta[j]) / m)\n",
        "     \n",
        "    def _sigmoid(self,y):\n",
        "        \"\"\"sigmoid関数\"\"\"\n",
        "        return 1 / (1 + np.exp(-y))\n",
        "        \n",
        "    def _logistic_hypothesis(self, X):\n",
        "        \"\"\"仮定関数\"\"\"\n",
        "        pred = X @ self.theta\n",
        "        pred = self._sigmoid(pred)\n",
        "        return pred\n",
        "    \n",
        "    def _loss_func(self, pred, y):\n",
        "        \"\"\"クロスエントロピー誤差関数\"\"\"\n",
        "        error = 0\n",
        "        for i in range(y.shape[0]):\n",
        "          error += -np.sum(y[i] *  np.log(pred[i])+(1-y[i]) *  np.log(1-pred[i]))\n",
        "        loss = error / (y.shape[0])\n",
        "        loss = loss + np.sum(self.theta**2)*self.lam/(2 * y.shape[0])\n",
        "        return loss"
      ]
    },
    {
      "cell_type": "markdown",
      "source": [
        "[Problem 5] Learning and estimation"
      ],
      "metadata": {
        "id": "j1B4Yfl9CmQB"
      }
    },
    {
      "cell_type": "code",
      "source": [
        "#Data preperation\n",
        "import pandas as pd\n",
        "from sklearn.datasets import load_iris\n",
        "from sklearn.model_selection import train_test_split\n",
        "from sklearn.preprocessing import StandardScaler\n",
        "\n",
        "iris = load_iris()\n",
        "X = iris.data[:100,:]\n",
        "y = iris.target[:100]\n",
        "\n",
        "(X_train, X_test, y_train, y_test) = train_test_split(X, y, test_size=0.2)\n",
        "\n",
        "scaler = StandardScaler()\n",
        "scaler.fit(X_train)\n",
        "#transform both X_train and X_test\n",
        "X_train= scaler.transform(X_train)\n",
        "X_test= scaler.transform(X_test)"
      ],
      "metadata": {
        "id": "2pUkhE1KCm0D"
      },
      "execution_count": 18,
      "outputs": []
    },
    {
      "cell_type": "code",
      "source": [
        "# Logistic regression in scratch\n",
        "slr = ScratchLogisticRegression(num_iter=1000, lr=0.01, bias=True, verbose=False, lam=0.1)\n",
        "slr.fit(X_train, y_train, X_test, y_test)\n",
        "\n",
        "prediction_slr = slr.predict(X_test)\n",
        "print (prediction_slr.tolist())"
      ],
      "metadata": {
        "colab": {
          "base_uri": "https://localhost:8080/"
        },
        "id": "hB7sn7XkDcW7",
        "outputId": "9f323d31-eafc-4f91-d850-5e0f235ba6f0"
      },
      "execution_count": 27,
      "outputs": [
        {
          "output_type": "stream",
          "name": "stdout",
          "text": [
            "[[0], [0], [1], [1], [1], [0], [0], [1], [1], [1], [0], [0], [0], [1], [1], [1], [1], [1], [0], [0]]\n"
          ]
        }
      ]
    },
    {
      "cell_type": "code",
      "source": [
        "# Logistic regression in scratch vs Logistic regression of scikit-learn\n",
        "\n",
        "from sklearn.metrics import accuracy_score\n",
        "from sklearn.metrics import precision_score\n",
        "from sklearn.metrics import recall_score\n",
        "from sklearn.metrics import f1_score\n",
        "\n",
        "#calculate evaluation metrics and add to evaluation_table\n",
        "def calculate_metrics_add_to_table(prediction_result, model_name, table_name, y_test):\n",
        "  d = {'accuracy':[accuracy_score(y_test, prediction_result)], 'precision':[precision_score(y_test, prediction_result, average='macro')], 'recall':[recall_score(y_test, prediction_result, average='macro')], 'F1 score': [f1_score(y_test, prediction_result, average='macro')]}\n",
        "  evaluation_result = pd.DataFrame(data=d, index=[model_name])\n",
        "  return table_name.append(evaluation_result)\n",
        "\n",
        "# LR of scikit-learn \n",
        "from sklearn.linear_model import LogisticRegression\n",
        "\n",
        "model_logistic = LogisticRegression().fit(X_train, y_train)\n",
        "prediction_LR = model_logistic.predict(X_test)\n",
        "\n",
        "evaluation_table = pd.DataFrame(columns = ('accuracy', 'precision', 'recall', 'F1 score'))\n",
        "evaluation_table = calculate_metrics_add_to_table(prediction_LR, 'LR scikit-learn', evaluation_table, y_test)\n",
        "\n",
        "# LR in scratch\n",
        "\n",
        "# Logistic regression in scratch\n",
        "model_scratch = ScratchLogisticRegression(num_iter=1000, lr=0.01, bias=True, verbose=False, lam=0.1)\n",
        "model_scratch.fit(X_train, y_train)\n",
        "\n",
        "prediction_scratch = model_scratch.predict(X_test)\n",
        "evaluation_table = calculate_metrics_add_to_table(prediction_scratch, 'LR scratch', evaluation_table, y_test)\n",
        "\n",
        "print (evaluation_table)"
      ],
      "metadata": {
        "colab": {
          "base_uri": "https://localhost:8080/"
        },
        "id": "2PhyzicQEvvL",
        "outputId": "ab15579a-cb02-4a3e-db54-1045fbf97882"
      },
      "execution_count": 25,
      "outputs": [
        {
          "output_type": "stream",
          "name": "stdout",
          "text": [
            "                 accuracy  precision  recall  F1 score\n",
            "LR scikit-learn       1.0        1.0     1.0       1.0\n",
            "LR scratch            1.0        1.0     1.0       1.0\n"
          ]
        }
      ]
    },
    {
      "cell_type": "markdown",
      "source": [
        "[Problem 6] Plot of learning curve"
      ],
      "metadata": {
        "id": "iPEoBN8MJhEU"
      }
    },
    {
      "cell_type": "code",
      "source": [
        "import matplotlib.pyplot as plt\n",
        "%matplotlib inline\n",
        "plt.plot(slr.loss, label = 'Training loss')\n",
        "plt.plot(slr.val_loss, label = 'Validataion loss')\n",
        "plt.legend()\n",
        "plt.xlabel ('iter')\n",
        "plt.ylabel ('loss')\n",
        "plt.title ('Model loss')\n",
        "plt.show()"
      ],
      "metadata": {
        "colab": {
          "base_uri": "https://localhost:8080/",
          "height": 295
        },
        "id": "xOMu2N72JiWe",
        "outputId": "3ebcec93-46ae-44b5-9a0d-55c7d1fa8278"
      },
      "execution_count": 29,
      "outputs": [
        {
          "output_type": "display_data",
          "data": {
            "text/plain": [
              "<Figure size 432x288 with 1 Axes>"
            ],
            "image/png": "[encoded data removed]"
          },
          "metadata": {
            "needs_background": "light"
          }
        }
      ]
    },
    {
      "cell_type": "markdown",
      "source": [
        "[Problem 7] Visualization of decision area"
      ],
      "metadata": {
        "id": "2C4LPzx-KCH0"
      }
    },
    {
      "cell_type": "code",
      "source": [
        "X = iris.data[:100,:2]\n",
        "y = iris.target[:100]\n",
        "(X_train, X_test, y_train, y_test) = train_test_split(X, y, test_size=0.2)\n",
        "slr = ScratchLogisticRegression(num_iter=2000, lr=0.001,bias=True,verbose=False,lam = 0.1)\n",
        "slr.fit(X_train, y_train,X_test,y_test)"
      ],
      "metadata": {
        "id": "h4fbKdSEKEdM"
      },
      "execution_count": 31,
      "outputs": []
    },
    {
      "cell_type": "code",
      "source": [
        "from matplotlib.colors import ListedColormap\n",
        "\n",
        "def decision_region(X,y,slr):\n",
        "    mesh_f0, mesh_f1  = np.meshgrid(\n",
        "        np.arange(np.min(X[:,0]), np.max(X[:,0]), 0.01), \n",
        "        np.arange(np.min(X[:,1]), np.max(X[:,1]), 0.01)\n",
        "    )\n",
        "    mesh = np.c_[np.ravel(mesh_f0),np.ravel(mesh_f1)]\n",
        "    y_pred = slr.predict(mesh).reshape(mesh_f0.shape)\n",
        "    plt.title('decision region')\n",
        "    plt.xlabel('feature0')\n",
        "    plt.ylabel('feature1')\n",
        "    plt.contourf(mesh_f0, mesh_f1, y_pred,cmap=ListedColormap(['pink', 'skyblue']))\n",
        "    plt.contour(mesh_f0, mesh_f1, y_pred,colors='red')\n",
        "    plt.scatter(X[y==0][:, 0], X[y==0][:, 1],label='0')\n",
        "    plt.scatter(X[y==1][:, 0], X[y==1][:, 1],label='1')\n",
        "    plt.legend()\n",
        "    plt.show()\n",
        "\n",
        "decision_region(X_train, y_train, slr)"
      ],
      "metadata": {
        "colab": {
          "base_uri": "https://localhost:8080/",
          "height": 295
        },
        "id": "LNVz3x1NKbOZ",
        "outputId": "ea2188d6-2fa7-4d21-df84-51b4017f018f"
      },
      "execution_count": 35,
      "outputs": [
        {
          "output_type": "display_data",
          "data": {
            "text/plain": [
              "<Figure size 432x288 with 1 Axes>"
            ],
            "image/png": "[encoded data removed]"
          },
          "metadata": {
            "needs_background": "light"
          }
        }
      ]
    },
    {
      "cell_type": "markdown",
      "source": [
        "[Problem 8] (Advance task) Saving weights"
      ],
      "metadata": {
        "id": "QaifpiopLXa5"
      }
    },
    {
      "cell_type": "code",
      "source": [
        "import pickle\n",
        "\n",
        "# save the model to disk\n",
        "filename = 'finalized_model.sav'\n",
        "pickle.dump(slr, open(filename, 'wb'))\n",
        " \n",
        "# some time later...\n",
        " \n",
        "# load the model from disk\n",
        "loaded_model = pickle.load(open(filename, 'rb'))\n",
        "result = loaded_model.predict_proba(X_test)\n",
        "print(result)"
      ],
      "metadata": {
        "colab": {
          "base_uri": "https://localhost:8080/"
        },
        "id": "pZAC2wQBLZ6N",
        "outputId": "dfa7f335-ecf5-44e1-a556-681e0ad9ac8d"
      },
      "execution_count": 37,
      "outputs": [
        {
          "output_type": "stream",
          "name": "stdout",
          "text": [
            "[[0.59141305]\n",
            " [0.44435499]\n",
            " [0.45611972]\n",
            " [0.6063271 ]\n",
            " [0.42406546]\n",
            " [0.47059779]\n",
            " [0.59842924]\n",
            " [0.58081942]\n",
            " [0.60427161]\n",
            " [0.45877463]\n",
            " [0.54619503]\n",
            " [0.49581837]\n",
            " [0.45081752]\n",
            " [0.57748659]\n",
            " [0.59842924]\n",
            " [0.45781631]\n",
            " [0.48490489]\n",
            " [0.44362012]\n",
            " [0.56489977]\n",
            " [0.49388851]]\n"
          ]
        }
      ]
    }
  ]
}